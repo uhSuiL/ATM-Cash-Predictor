{
 "cells": [
  {
   "cell_type": "code",
   "execution_count": 85,
   "id": "initial_id",
   "metadata": {
    "collapsed": true,
    "ExecuteTime": {
     "end_time": "2024-05-19T02:32:34.216818200Z",
     "start_time": "2024-05-19T02:32:34.207307300Z"
    }
   },
   "outputs": [],
   "source": [
    "import pandas as pd\n",
    "from sklearn.model_selection import train_test_split"
   ]
  },
  {
   "cell_type": "code",
   "outputs": [
    {
     "data": {
      "text/plain": "              日期   柜员号    尾箱余额\n0     2016-02-01  9012     600\n1     2016-02-02  9012  504000\n2     2016-02-03  9012  467300\n3     2016-02-04  9012  382200\n4     2016-02-05  9012  298700\n...          ...   ...     ...\n5995  2017-03-02  9490  163300\n5996  2017-03-03  9490  215500\n5997  2017-03-04  9490  241100\n5998  2017-03-05  9490  266400\n5999  2017-03-06  9490  244300\n\n[6000 rows x 3 columns]",
      "text/html": "<div>\n<style scoped>\n    .dataframe tbody tr th:only-of-type {\n        vertical-align: middle;\n    }\n\n    .dataframe tbody tr th {\n        vertical-align: top;\n    }\n\n    .dataframe thead th {\n        text-align: right;\n    }\n</style>\n<table border=\"1\" class=\"dataframe\">\n  <thead>\n    <tr style=\"text-align: right;\">\n      <th></th>\n      <th>日期</th>\n      <th>柜员号</th>\n      <th>尾箱余额</th>\n    </tr>\n  </thead>\n  <tbody>\n    <tr>\n      <th>0</th>\n      <td>2016-02-01</td>\n      <td>9012</td>\n      <td>600</td>\n    </tr>\n    <tr>\n      <th>1</th>\n      <td>2016-02-02</td>\n      <td>9012</td>\n      <td>504000</td>\n    </tr>\n    <tr>\n      <th>2</th>\n      <td>2016-02-03</td>\n      <td>9012</td>\n      <td>467300</td>\n    </tr>\n    <tr>\n      <th>3</th>\n      <td>2016-02-04</td>\n      <td>9012</td>\n      <td>382200</td>\n    </tr>\n    <tr>\n      <th>4</th>\n      <td>2016-02-05</td>\n      <td>9012</td>\n      <td>298700</td>\n    </tr>\n    <tr>\n      <th>...</th>\n      <td>...</td>\n      <td>...</td>\n      <td>...</td>\n    </tr>\n    <tr>\n      <th>5995</th>\n      <td>2017-03-02</td>\n      <td>9490</td>\n      <td>163300</td>\n    </tr>\n    <tr>\n      <th>5996</th>\n      <td>2017-03-03</td>\n      <td>9490</td>\n      <td>215500</td>\n    </tr>\n    <tr>\n      <th>5997</th>\n      <td>2017-03-04</td>\n      <td>9490</td>\n      <td>241100</td>\n    </tr>\n    <tr>\n      <th>5998</th>\n      <td>2017-03-05</td>\n      <td>9490</td>\n      <td>266400</td>\n    </tr>\n    <tr>\n      <th>5999</th>\n      <td>2017-03-06</td>\n      <td>9490</td>\n      <td>244300</td>\n    </tr>\n  </tbody>\n</table>\n<p>6000 rows × 3 columns</p>\n</div>"
     },
     "execution_count": 86,
     "metadata": {},
     "output_type": "execute_result"
    }
   ],
   "source": [
    "atm_data = pd.read_csv('../data/Group2-ATM.csv', index_col=0).reset_index(drop=True)\n",
    "atm_info = pd.read_csv('../data/Group2-ATM-Info.csv', index_col=0).drop(11)  # 有重复行 -- 柜员号9049\n",
    "\n",
    "atm_data"
   ],
   "metadata": {
    "collapsed": false,
    "ExecuteTime": {
     "end_time": "2024-05-19T02:32:34.229391900Z",
     "start_time": "2024-05-19T02:32:34.210818100Z"
    }
   },
   "id": "2a111598e587f781",
   "execution_count": 86
  },
  {
   "cell_type": "code",
   "outputs": [
    {
     "data": {
      "text/plain": "     柜员号 在/离行 是否开启循环\n0   9012   在行      是\n1   9003   在行      是\n2   9049   离行      是\n3   9025   离行      否\n4   9053   离行      否\n5   9077   离行      否\n6   9207   在行      是\n7   9200   在行      是\n8   9164   在行      是\n9   9008   离行      否\n10  9039   离行      否\n12  9622   离行      是\n13  9472   在行      是\n14  9490   在行      是",
      "text/html": "<div>\n<style scoped>\n    .dataframe tbody tr th:only-of-type {\n        vertical-align: middle;\n    }\n\n    .dataframe tbody tr th {\n        vertical-align: top;\n    }\n\n    .dataframe thead th {\n        text-align: right;\n    }\n</style>\n<table border=\"1\" class=\"dataframe\">\n  <thead>\n    <tr style=\"text-align: right;\">\n      <th></th>\n      <th>柜员号</th>\n      <th>在/离行</th>\n      <th>是否开启循环</th>\n    </tr>\n  </thead>\n  <tbody>\n    <tr>\n      <th>0</th>\n      <td>9012</td>\n      <td>在行</td>\n      <td>是</td>\n    </tr>\n    <tr>\n      <th>1</th>\n      <td>9003</td>\n      <td>在行</td>\n      <td>是</td>\n    </tr>\n    <tr>\n      <th>2</th>\n      <td>9049</td>\n      <td>离行</td>\n      <td>是</td>\n    </tr>\n    <tr>\n      <th>3</th>\n      <td>9025</td>\n      <td>离行</td>\n      <td>否</td>\n    </tr>\n    <tr>\n      <th>4</th>\n      <td>9053</td>\n      <td>离行</td>\n      <td>否</td>\n    </tr>\n    <tr>\n      <th>5</th>\n      <td>9077</td>\n      <td>离行</td>\n      <td>否</td>\n    </tr>\n    <tr>\n      <th>6</th>\n      <td>9207</td>\n      <td>在行</td>\n      <td>是</td>\n    </tr>\n    <tr>\n      <th>7</th>\n      <td>9200</td>\n      <td>在行</td>\n      <td>是</td>\n    </tr>\n    <tr>\n      <th>8</th>\n      <td>9164</td>\n      <td>在行</td>\n      <td>是</td>\n    </tr>\n    <tr>\n      <th>9</th>\n      <td>9008</td>\n      <td>离行</td>\n      <td>否</td>\n    </tr>\n    <tr>\n      <th>10</th>\n      <td>9039</td>\n      <td>离行</td>\n      <td>否</td>\n    </tr>\n    <tr>\n      <th>12</th>\n      <td>9622</td>\n      <td>离行</td>\n      <td>是</td>\n    </tr>\n    <tr>\n      <th>13</th>\n      <td>9472</td>\n      <td>在行</td>\n      <td>是</td>\n    </tr>\n    <tr>\n      <th>14</th>\n      <td>9490</td>\n      <td>在行</td>\n      <td>是</td>\n    </tr>\n  </tbody>\n</table>\n</div>"
     },
     "execution_count": 87,
     "metadata": {},
     "output_type": "execute_result"
    }
   ],
   "source": [
    "atm_info"
   ],
   "metadata": {
    "collapsed": false,
    "ExecuteTime": {
     "end_time": "2024-05-19T02:32:34.241965200Z",
     "start_time": "2024-05-19T02:32:34.226391600Z"
    }
   },
   "id": "27b3050ca8933ba9",
   "execution_count": 87
  },
  {
   "cell_type": "code",
   "outputs": [
    {
     "data": {
      "text/plain": "              日期   柜员号    尾箱余额 在/离行 是否开启循环\n0     2016-02-01  9012     600   在行      是\n1     2016-02-02  9012  504000   在行      是\n2     2016-02-03  9012  467300   在行      是\n3     2016-02-04  9012  382200   在行      是\n4     2016-02-05  9012  298700   在行      是\n...          ...   ...     ...  ...    ...\n5995  2017-03-02  9490  163300   在行      是\n5996  2017-03-03  9490  215500   在行      是\n5997  2017-03-04  9490  241100   在行      是\n5998  2017-03-05  9490  266400   在行      是\n5999  2017-03-06  9490  244300   在行      是\n\n[6000 rows x 5 columns]",
      "text/html": "<div>\n<style scoped>\n    .dataframe tbody tr th:only-of-type {\n        vertical-align: middle;\n    }\n\n    .dataframe tbody tr th {\n        vertical-align: top;\n    }\n\n    .dataframe thead th {\n        text-align: right;\n    }\n</style>\n<table border=\"1\" class=\"dataframe\">\n  <thead>\n    <tr style=\"text-align: right;\">\n      <th></th>\n      <th>日期</th>\n      <th>柜员号</th>\n      <th>尾箱余额</th>\n      <th>在/离行</th>\n      <th>是否开启循环</th>\n    </tr>\n  </thead>\n  <tbody>\n    <tr>\n      <th>0</th>\n      <td>2016-02-01</td>\n      <td>9012</td>\n      <td>600</td>\n      <td>在行</td>\n      <td>是</td>\n    </tr>\n    <tr>\n      <th>1</th>\n      <td>2016-02-02</td>\n      <td>9012</td>\n      <td>504000</td>\n      <td>在行</td>\n      <td>是</td>\n    </tr>\n    <tr>\n      <th>2</th>\n      <td>2016-02-03</td>\n      <td>9012</td>\n      <td>467300</td>\n      <td>在行</td>\n      <td>是</td>\n    </tr>\n    <tr>\n      <th>3</th>\n      <td>2016-02-04</td>\n      <td>9012</td>\n      <td>382200</td>\n      <td>在行</td>\n      <td>是</td>\n    </tr>\n    <tr>\n      <th>4</th>\n      <td>2016-02-05</td>\n      <td>9012</td>\n      <td>298700</td>\n      <td>在行</td>\n      <td>是</td>\n    </tr>\n    <tr>\n      <th>...</th>\n      <td>...</td>\n      <td>...</td>\n      <td>...</td>\n      <td>...</td>\n      <td>...</td>\n    </tr>\n    <tr>\n      <th>5995</th>\n      <td>2017-03-02</td>\n      <td>9490</td>\n      <td>163300</td>\n      <td>在行</td>\n      <td>是</td>\n    </tr>\n    <tr>\n      <th>5996</th>\n      <td>2017-03-03</td>\n      <td>9490</td>\n      <td>215500</td>\n      <td>在行</td>\n      <td>是</td>\n    </tr>\n    <tr>\n      <th>5997</th>\n      <td>2017-03-04</td>\n      <td>9490</td>\n      <td>241100</td>\n      <td>在行</td>\n      <td>是</td>\n    </tr>\n    <tr>\n      <th>5998</th>\n      <td>2017-03-05</td>\n      <td>9490</td>\n      <td>266400</td>\n      <td>在行</td>\n      <td>是</td>\n    </tr>\n    <tr>\n      <th>5999</th>\n      <td>2017-03-06</td>\n      <td>9490</td>\n      <td>244300</td>\n      <td>在行</td>\n      <td>是</td>\n    </tr>\n  </tbody>\n</table>\n<p>6000 rows × 5 columns</p>\n</div>"
     },
     "execution_count": 88,
     "metadata": {},
     "output_type": "execute_result"
    }
   ],
   "source": [
    "data = pd.merge(atm_data, atm_info, how='left', on='柜员号')\n",
    "data"
   ],
   "metadata": {
    "collapsed": false,
    "ExecuteTime": {
     "end_time": "2024-05-19T02:32:34.267424500Z",
     "start_time": "2024-05-19T02:32:34.233385300Z"
    }
   },
   "id": "fc7bf8dd24a7a3a5",
   "execution_count": 88
  },
  {
   "cell_type": "code",
   "outputs": [
    {
     "data": {
      "text/plain": "柜员号\n9003    400\n9008    400\n9012    400\n9025    400\n9039    400\n9049    800\n9053    400\n9077    400\n9164    400\n9200    400\n9207    400\n9472    400\n9490    400\n9622    400\nName: 日期, dtype: int64"
     },
     "execution_count": 89,
     "metadata": {},
     "output_type": "execute_result"
    }
   ],
   "source": [
    "data.groupby('柜员号').count()['日期']"
   ],
   "metadata": {
    "collapsed": false,
    "ExecuteTime": {
     "end_time": "2024-05-19T02:32:34.268425600Z",
     "start_time": "2024-05-19T02:32:34.245703600Z"
    }
   },
   "id": "2d258066b1bdd921",
   "execution_count": 89
  },
  {
   "cell_type": "code",
   "outputs": [
    {
     "data": {
      "text/plain": "            柜员号  尾箱余额  在/离行  是否开启循环\n日期                                 \n2016-02-01    2     2     2       2\n2016-02-02    2     2     2       2\n2016-02-03    2     2     2       2\n2016-02-04    2     2     2       2\n2016-02-05    2     2     2       2\n...         ...   ...   ...     ...\n2017-03-02    2     2     2       2\n2017-03-03    2     2     2       2\n2017-03-04    2     2     2       2\n2017-03-05    2     2     2       2\n2017-03-06    2     2     2       2\n\n[400 rows x 4 columns]",
      "text/html": "<div>\n<style scoped>\n    .dataframe tbody tr th:only-of-type {\n        vertical-align: middle;\n    }\n\n    .dataframe tbody tr th {\n        vertical-align: top;\n    }\n\n    .dataframe thead th {\n        text-align: right;\n    }\n</style>\n<table border=\"1\" class=\"dataframe\">\n  <thead>\n    <tr style=\"text-align: right;\">\n      <th></th>\n      <th>柜员号</th>\n      <th>尾箱余额</th>\n      <th>在/离行</th>\n      <th>是否开启循环</th>\n    </tr>\n    <tr>\n      <th>日期</th>\n      <th></th>\n      <th></th>\n      <th></th>\n      <th></th>\n    </tr>\n  </thead>\n  <tbody>\n    <tr>\n      <th>2016-02-01</th>\n      <td>2</td>\n      <td>2</td>\n      <td>2</td>\n      <td>2</td>\n    </tr>\n    <tr>\n      <th>2016-02-02</th>\n      <td>2</td>\n      <td>2</td>\n      <td>2</td>\n      <td>2</td>\n    </tr>\n    <tr>\n      <th>2016-02-03</th>\n      <td>2</td>\n      <td>2</td>\n      <td>2</td>\n      <td>2</td>\n    </tr>\n    <tr>\n      <th>2016-02-04</th>\n      <td>2</td>\n      <td>2</td>\n      <td>2</td>\n      <td>2</td>\n    </tr>\n    <tr>\n      <th>2016-02-05</th>\n      <td>2</td>\n      <td>2</td>\n      <td>2</td>\n      <td>2</td>\n    </tr>\n    <tr>\n      <th>...</th>\n      <td>...</td>\n      <td>...</td>\n      <td>...</td>\n      <td>...</td>\n    </tr>\n    <tr>\n      <th>2017-03-02</th>\n      <td>2</td>\n      <td>2</td>\n      <td>2</td>\n      <td>2</td>\n    </tr>\n    <tr>\n      <th>2017-03-03</th>\n      <td>2</td>\n      <td>2</td>\n      <td>2</td>\n      <td>2</td>\n    </tr>\n    <tr>\n      <th>2017-03-04</th>\n      <td>2</td>\n      <td>2</td>\n      <td>2</td>\n      <td>2</td>\n    </tr>\n    <tr>\n      <th>2017-03-05</th>\n      <td>2</td>\n      <td>2</td>\n      <td>2</td>\n      <td>2</td>\n    </tr>\n    <tr>\n      <th>2017-03-06</th>\n      <td>2</td>\n      <td>2</td>\n      <td>2</td>\n      <td>2</td>\n    </tr>\n  </tbody>\n</table>\n<p>400 rows × 4 columns</p>\n</div>"
     },
     "execution_count": 90,
     "metadata": {},
     "output_type": "execute_result"
    }
   ],
   "source": [
    "data[data['柜员号'] == 9049].groupby('日期').count()"
   ],
   "metadata": {
    "collapsed": false,
    "ExecuteTime": {
     "end_time": "2024-05-19T02:32:34.306206100Z",
     "start_time": "2024-05-19T02:32:34.251669500Z"
    }
   },
   "id": "f7ca468b908e074a",
   "execution_count": 90
  },
  {
   "cell_type": "code",
   "outputs": [
    {
     "data": {
      "text/plain": "日期\n2016-04-19    15\n2016-04-20    15\n2016-04-21    15\n2016-04-22    15\n2016-04-23    15\n              ..\n2017-03-02    15\n2017-03-03    15\n2017-03-04    15\n2017-03-05    15\n2017-03-06    15\nName: 柜员号, Length: 322, dtype: int64"
     },
     "execution_count": 91,
     "metadata": {},
     "output_type": "execute_result"
    }
   ],
   "source": [
    "_ = data.groupby('日期').count()['柜员号']\n",
    "_[_ == 15]"
   ],
   "metadata": {
    "collapsed": false,
    "ExecuteTime": {
     "end_time": "2024-05-19T02:32:34.319206100Z",
     "start_time": "2024-05-19T02:32:34.260536700Z"
    }
   },
   "id": "9021a609a0111574",
   "execution_count": 91
  },
  {
   "cell_type": "code",
   "outputs": [
    {
     "data": {
      "text/plain": "              日期   柜员号    尾箱余额 在/离行 是否开启循环\n878   2016-04-19  9049  484500   离行      是\n4478  2016-04-19  9049  484500   离行      是",
      "text/html": "<div>\n<style scoped>\n    .dataframe tbody tr th:only-of-type {\n        vertical-align: middle;\n    }\n\n    .dataframe tbody tr th {\n        vertical-align: top;\n    }\n\n    .dataframe thead th {\n        text-align: right;\n    }\n</style>\n<table border=\"1\" class=\"dataframe\">\n  <thead>\n    <tr style=\"text-align: right;\">\n      <th></th>\n      <th>日期</th>\n      <th>柜员号</th>\n      <th>尾箱余额</th>\n      <th>在/离行</th>\n      <th>是否开启循环</th>\n    </tr>\n  </thead>\n  <tbody>\n    <tr>\n      <th>878</th>\n      <td>2016-04-19</td>\n      <td>9049</td>\n      <td>484500</td>\n      <td>离行</td>\n      <td>是</td>\n    </tr>\n    <tr>\n      <th>4478</th>\n      <td>2016-04-19</td>\n      <td>9049</td>\n      <td>484500</td>\n      <td>离行</td>\n      <td>是</td>\n    </tr>\n  </tbody>\n</table>\n</div>"
     },
     "execution_count": 92,
     "metadata": {},
     "output_type": "execute_result"
    }
   ],
   "source": [
    "data[(data['日期'] == '2016-04-19') & (data['柜员号'] == 9049)]"
   ],
   "metadata": {
    "collapsed": false,
    "ExecuteTime": {
     "end_time": "2024-05-19T02:32:34.320206500Z",
     "start_time": "2024-05-19T02:32:34.266424Z"
    }
   },
   "id": "8786ffae73c31558",
   "execution_count": 92
  },
  {
   "cell_type": "code",
   "outputs": [
    {
     "data": {
      "text/plain": "日期\n2016-09-27    15\n2016-09-29    15\n2016-09-07    15\n2016-09-06    15\n2016-09-05    15\n              ..\n2017-03-31     1\n2017-03-30     1\n2017-03-29     1\n2017-03-28     1\n2017-05-23     1\nName: count, Length: 478, dtype: int64"
     },
     "execution_count": 93,
     "metadata": {},
     "output_type": "execute_result"
    }
   ],
   "source": [
    "data['日期'].value_counts()"
   ],
   "metadata": {
    "collapsed": false,
    "ExecuteTime": {
     "end_time": "2024-05-19T02:32:34.321206200Z",
     "start_time": "2024-05-19T02:32:34.274930800Z"
    }
   },
   "id": "64e2df1c965a48fa",
   "execution_count": 93
  },
  {
   "cell_type": "code",
   "outputs": [
    {
     "data": {
      "text/plain": "柜员号\n9012    1\n9003    1\n9049    1\n9025    1\n9053    1\n9077    1\n9207    1\n9200    1\n9164    1\n9008    1\n9039    1\n9622    1\n9472    1\n9490    1\nName: count, dtype: int64"
     },
     "execution_count": 94,
     "metadata": {},
     "output_type": "execute_result"
    }
   ],
   "source": [
    "atm_info['柜员号'].value_counts()"
   ],
   "metadata": {
    "collapsed": false,
    "ExecuteTime": {
     "end_time": "2024-05-19T02:32:34.321206200Z",
     "start_time": "2024-05-19T02:32:34.283350100Z"
    }
   },
   "id": "bc5d7571b2c05bb0",
   "execution_count": 94
  },
  {
   "cell_type": "code",
   "outputs": [
    {
     "data": {
      "text/plain": "5600"
     },
     "execution_count": 95,
     "metadata": {},
     "output_type": "execute_result"
    }
   ],
   "source": [
    "14 * 400"
   ],
   "metadata": {
    "collapsed": false,
    "ExecuteTime": {
     "end_time": "2024-05-19T02:32:34.327218800Z",
     "start_time": "2024-05-19T02:32:34.286662900Z"
    }
   },
   "id": "ed982dea9af75b0e",
   "execution_count": 95
  },
  {
   "cell_type": "code",
   "outputs": [],
   "source": [
    "train_set = data.iloc[:-600, :]\n",
    "test_set = data.iloc[-600:, :]"
   ],
   "metadata": {
    "collapsed": false,
    "ExecuteTime": {
     "end_time": "2024-05-19T02:32:34.349224900Z",
     "start_time": "2024-05-19T02:32:34.293201200Z"
    }
   },
   "id": "2a893bf3dcc73c90",
   "execution_count": 96
  },
  {
   "cell_type": "code",
   "outputs": [
    {
     "data": {
      "text/plain": "柜员号\n15    322\n14     78\n1      78\nName: count, dtype: int64"
     },
     "execution_count": 208,
     "metadata": {},
     "output_type": "execute_result"
    }
   ],
   "source": [
    "data.groupby('日期').count()['柜员号'].value_counts()"
   ],
   "metadata": {
    "collapsed": false,
    "ExecuteTime": {
     "end_time": "2024-05-19T03:57:54.236973300Z",
     "start_time": "2024-05-19T03:57:54.222887800Z"
    }
   },
   "id": "6ffcbb230a3864b8",
   "execution_count": 208
  },
  {
   "cell_type": "code",
   "outputs": [
    {
     "data": {
      "text/plain": "日期\n2017-03-07    1\n2017-03-08    1\n2017-03-09    1\n2017-03-10    1\n2017-03-11    1\n             ..\n2017-05-19    1\n2017-05-20    1\n2017-05-21    1\n2017-05-22    1\n2017-05-23    1\nName: 柜员号, Length: 78, dtype: int64"
     },
     "execution_count": 107,
     "metadata": {},
     "output_type": "execute_result"
    }
   ],
   "source": [
    "_ = data.groupby('日期').count()['柜员号']\n",
    "_[_ == 1]"
   ],
   "metadata": {
    "collapsed": false,
    "ExecuteTime": {
     "end_time": "2024-05-19T02:36:38.170505Z",
     "start_time": "2024-05-19T02:36:38.140698200Z"
    }
   },
   "id": "e6069a97b84d0de5",
   "execution_count": 107
  },
  {
   "cell_type": "code",
   "outputs": [
    {
     "data": {
      "text/plain": "柜员号\n9049    2\n9012    1\n9003    1\n9025    1\n9053    1\n9077    1\n9207    1\n9200    1\n9164    1\n9008    1\n9039    1\n9622    1\n9472    1\n9490    1\nName: count, dtype: int64"
     },
     "execution_count": 105,
     "metadata": {},
     "output_type": "execute_result"
    }
   ],
   "source": [
    "data[data['日期'] == '2016-04-19']['柜员号'].value_counts()"
   ],
   "metadata": {
    "collapsed": false,
    "ExecuteTime": {
     "end_time": "2024-05-19T02:34:49.643018600Z",
     "start_time": "2024-05-19T02:34:49.633427Z"
    }
   },
   "id": "362cec226487942f",
   "execution_count": 105
  },
  {
   "cell_type": "code",
   "outputs": [
    {
     "data": {
      "text/plain": "              日期   柜员号    尾箱余额 在/离行 是否开启循环\n878   2016-04-19  9049  484500   离行      是\n4478  2016-04-19  9049  484500   离行      是",
      "text/html": "<div>\n<style scoped>\n    .dataframe tbody tr th:only-of-type {\n        vertical-align: middle;\n    }\n\n    .dataframe tbody tr th {\n        vertical-align: top;\n    }\n\n    .dataframe thead th {\n        text-align: right;\n    }\n</style>\n<table border=\"1\" class=\"dataframe\">\n  <thead>\n    <tr style=\"text-align: right;\">\n      <th></th>\n      <th>日期</th>\n      <th>柜员号</th>\n      <th>尾箱余额</th>\n      <th>在/离行</th>\n      <th>是否开启循环</th>\n    </tr>\n  </thead>\n  <tbody>\n    <tr>\n      <th>878</th>\n      <td>2016-04-19</td>\n      <td>9049</td>\n      <td>484500</td>\n      <td>离行</td>\n      <td>是</td>\n    </tr>\n    <tr>\n      <th>4478</th>\n      <td>2016-04-19</td>\n      <td>9049</td>\n      <td>484500</td>\n      <td>离行</td>\n      <td>是</td>\n    </tr>\n  </tbody>\n</table>\n</div>"
     },
     "execution_count": 106,
     "metadata": {},
     "output_type": "execute_result"
    }
   ],
   "source": [
    "data[(data['日期'] == '2016-04-19') & (data['柜员号'] == 9049)]"
   ],
   "metadata": {
    "collapsed": false,
    "ExecuteTime": {
     "end_time": "2024-05-19T02:36:21.743758400Z",
     "start_time": "2024-05-19T02:36:21.735191800Z"
    }
   },
   "id": "e14c4158c15deb0a",
   "execution_count": 106
  },
  {
   "cell_type": "code",
   "outputs": [
    {
     "data": {
      "text/plain": "              日期   柜员号    尾箱余额 在/离行 是否开启循环\n5125  2017-03-10  9622  336500   离行      是",
      "text/html": "<div>\n<style scoped>\n    .dataframe tbody tr th:only-of-type {\n        vertical-align: middle;\n    }\n\n    .dataframe tbody tr th {\n        vertical-align: top;\n    }\n\n    .dataframe thead th {\n        text-align: right;\n    }\n</style>\n<table border=\"1\" class=\"dataframe\">\n  <thead>\n    <tr style=\"text-align: right;\">\n      <th></th>\n      <th>日期</th>\n      <th>柜员号</th>\n      <th>尾箱余额</th>\n      <th>在/离行</th>\n      <th>是否开启循环</th>\n    </tr>\n  </thead>\n  <tbody>\n    <tr>\n      <th>5125</th>\n      <td>2017-03-10</td>\n      <td>9622</td>\n      <td>336500</td>\n      <td>离行</td>\n      <td>是</td>\n    </tr>\n  </tbody>\n</table>\n</div>"
     },
     "execution_count": 111,
     "metadata": {},
     "output_type": "execute_result"
    }
   ],
   "source": [
    "data[data['日期'] == '2017-03-10']"
   ],
   "metadata": {
    "collapsed": false,
    "ExecuteTime": {
     "end_time": "2024-05-19T02:40:50.815458900Z",
     "start_time": "2024-05-19T02:40:50.802249200Z"
    }
   },
   "id": "aa0fcffe406a5a83",
   "execution_count": 111
  },
  {
   "cell_type": "code",
   "outputs": [
    {
     "data": {
      "text/plain": "              日期   柜员号    尾箱余额 在/离行 是否开启循环\n4800  2016-04-19  9622  114800   离行      是\n4801  2016-04-20  9622  114700   离行      是\n4802  2016-04-21  9622   83400   离行      是\n4803  2016-04-22  9622   54500   离行      是\n4804  2016-04-23  9622   87800   离行      是\n...          ...   ...     ...  ...    ...\n5195  2017-05-19  9622   92500   离行      是\n5196  2017-05-20  9622  110600   离行      是\n5197  2017-05-21  9622  110600   离行      是\n5198  2017-05-22  9622  119500   离行      是\n5199  2017-05-23  9622  279500   离行      是\n\n[400 rows x 5 columns]",
      "text/html": "<div>\n<style scoped>\n    .dataframe tbody tr th:only-of-type {\n        vertical-align: middle;\n    }\n\n    .dataframe tbody tr th {\n        vertical-align: top;\n    }\n\n    .dataframe thead th {\n        text-align: right;\n    }\n</style>\n<table border=\"1\" class=\"dataframe\">\n  <thead>\n    <tr style=\"text-align: right;\">\n      <th></th>\n      <th>日期</th>\n      <th>柜员号</th>\n      <th>尾箱余额</th>\n      <th>在/离行</th>\n      <th>是否开启循环</th>\n    </tr>\n  </thead>\n  <tbody>\n    <tr>\n      <th>4800</th>\n      <td>2016-04-19</td>\n      <td>9622</td>\n      <td>114800</td>\n      <td>离行</td>\n      <td>是</td>\n    </tr>\n    <tr>\n      <th>4801</th>\n      <td>2016-04-20</td>\n      <td>9622</td>\n      <td>114700</td>\n      <td>离行</td>\n      <td>是</td>\n    </tr>\n    <tr>\n      <th>4802</th>\n      <td>2016-04-21</td>\n      <td>9622</td>\n      <td>83400</td>\n      <td>离行</td>\n      <td>是</td>\n    </tr>\n    <tr>\n      <th>4803</th>\n      <td>2016-04-22</td>\n      <td>9622</td>\n      <td>54500</td>\n      <td>离行</td>\n      <td>是</td>\n    </tr>\n    <tr>\n      <th>4804</th>\n      <td>2016-04-23</td>\n      <td>9622</td>\n      <td>87800</td>\n      <td>离行</td>\n      <td>是</td>\n    </tr>\n    <tr>\n      <th>...</th>\n      <td>...</td>\n      <td>...</td>\n      <td>...</td>\n      <td>...</td>\n      <td>...</td>\n    </tr>\n    <tr>\n      <th>5195</th>\n      <td>2017-05-19</td>\n      <td>9622</td>\n      <td>92500</td>\n      <td>离行</td>\n      <td>是</td>\n    </tr>\n    <tr>\n      <th>5196</th>\n      <td>2017-05-20</td>\n      <td>9622</td>\n      <td>110600</td>\n      <td>离行</td>\n      <td>是</td>\n    </tr>\n    <tr>\n      <th>5197</th>\n      <td>2017-05-21</td>\n      <td>9622</td>\n      <td>110600</td>\n      <td>离行</td>\n      <td>是</td>\n    </tr>\n    <tr>\n      <th>5198</th>\n      <td>2017-05-22</td>\n      <td>9622</td>\n      <td>119500</td>\n      <td>离行</td>\n      <td>是</td>\n    </tr>\n    <tr>\n      <th>5199</th>\n      <td>2017-05-23</td>\n      <td>9622</td>\n      <td>279500</td>\n      <td>离行</td>\n      <td>是</td>\n    </tr>\n  </tbody>\n</table>\n<p>400 rows × 5 columns</p>\n</div>"
     },
     "execution_count": 112,
     "metadata": {},
     "output_type": "execute_result"
    }
   ],
   "source": [
    "data[data['柜员号'] == 9622]"
   ],
   "metadata": {
    "collapsed": false,
    "ExecuteTime": {
     "end_time": "2024-05-19T02:41:02.236466700Z",
     "start_time": "2024-05-19T02:41:02.223020200Z"
    }
   },
   "id": "202cbc3dabecb01d",
   "execution_count": 112
  },
  {
   "cell_type": "code",
   "outputs": [
    {
     "data": {
      "text/plain": "array(['2016-02-01', '2016-02-02', '2016-02-03', '2016-02-04',\n       '2016-02-05', '2016-02-06', '2016-02-07', '2016-02-08',\n       '2016-02-09', '2016-02-10', '2016-02-11', '2016-02-12',\n       '2016-02-13', '2016-02-14', '2016-02-15', '2016-02-16',\n       '2016-02-17', '2016-02-18', '2016-02-19', '2016-02-20',\n       '2016-02-21', '2016-02-22', '2016-02-23', '2016-02-24',\n       '2016-02-25', '2016-02-26', '2016-02-27', '2016-02-28',\n       '2016-02-29', '2016-03-01', '2016-03-02', '2016-03-03',\n       '2016-03-04', '2016-03-05', '2016-03-06', '2016-03-07',\n       '2016-03-08', '2016-03-09', '2016-03-10', '2016-03-11',\n       '2016-03-12', '2016-03-13', '2016-03-14', '2016-03-15',\n       '2016-03-16', '2016-03-17', '2016-03-18', '2016-03-19',\n       '2016-03-20', '2016-03-21', '2016-03-22', '2016-03-23',\n       '2016-03-24', '2016-03-25', '2016-03-26', '2016-03-27',\n       '2016-03-28', '2016-03-29', '2016-03-30', '2016-03-31',\n       '2016-04-01', '2016-04-02', '2016-04-03', '2016-04-04',\n       '2016-04-05', '2016-04-06', '2016-04-07', '2016-04-08',\n       '2016-04-09', '2016-04-10', '2016-04-11', '2016-04-12',\n       '2016-04-13', '2016-04-14', '2016-04-15', '2016-04-16',\n       '2016-04-17', '2016-04-18', '2016-04-19', '2016-04-20',\n       '2016-04-21', '2016-04-22', '2016-04-23', '2016-04-24',\n       '2016-04-25', '2016-04-26', '2016-04-27', '2016-04-28',\n       '2016-04-29', '2016-04-30', '2016-05-01', '2016-05-02',\n       '2016-05-03', '2016-05-04', '2016-05-05', '2016-05-06',\n       '2016-05-07', '2016-05-08', '2016-05-09', '2016-05-10',\n       '2016-05-11', '2016-05-12', '2016-05-13', '2016-05-14',\n       '2016-05-15', '2016-05-16', '2016-05-17', '2016-05-18',\n       '2016-05-19', '2016-05-20', '2016-05-21', '2016-05-22',\n       '2016-05-23', '2016-05-24', '2016-05-25', '2016-05-26',\n       '2016-05-27', '2016-05-28', '2016-05-29', '2016-05-30',\n       '2016-05-31', '2016-06-01', '2016-06-02', '2016-06-03',\n       '2016-06-04', '2016-06-05', '2016-06-06', '2016-06-07',\n       '2016-06-08', '2016-06-09', '2016-06-10', '2016-06-11',\n       '2016-06-12', '2016-06-13', '2016-06-14', '2016-06-15',\n       '2016-06-16', '2016-06-17', '2016-06-18', '2016-06-19',\n       '2016-06-20', '2016-06-21', '2016-06-22', '2016-06-23',\n       '2016-06-24', '2016-06-25', '2016-06-26', '2016-06-27',\n       '2016-06-28', '2016-06-29', '2016-06-30', '2016-07-01',\n       '2016-07-02', '2016-07-03', '2016-07-04', '2016-07-05',\n       '2016-07-06', '2016-07-07', '2016-07-08', '2016-07-09',\n       '2016-07-10', '2016-07-11', '2016-07-12', '2016-07-13',\n       '2016-07-14', '2016-07-15', '2016-07-16', '2016-07-17',\n       '2016-07-18', '2016-07-19', '2016-07-20', '2016-07-21',\n       '2016-07-22', '2016-07-23', '2016-07-24', '2016-07-25',\n       '2016-07-26', '2016-07-27', '2016-07-28', '2016-07-29',\n       '2016-07-30', '2016-07-31', '2016-08-01', '2016-08-02',\n       '2016-08-03', '2016-08-04', '2016-08-05', '2016-08-06',\n       '2016-08-07', '2016-08-08', '2016-08-09', '2016-08-10',\n       '2016-08-11', '2016-08-12', '2016-08-13', '2016-08-14',\n       '2016-08-15', '2016-08-16', '2016-08-17', '2016-08-18',\n       '2016-08-19', '2016-08-20', '2016-08-21', '2016-08-22',\n       '2016-08-23', '2016-08-24', '2016-08-25', '2016-08-26',\n       '2016-08-27', '2016-08-28', '2016-08-29', '2016-08-30',\n       '2016-08-31', '2016-09-01', '2016-09-02', '2016-09-03',\n       '2016-09-04', '2016-09-05', '2016-09-06', '2016-09-07',\n       '2016-09-08', '2016-09-09', '2016-09-10', '2016-09-11',\n       '2016-09-12', '2016-09-13', '2016-09-14', '2016-09-15',\n       '2016-09-16', '2016-09-17', '2016-09-18', '2016-09-19',\n       '2016-09-20', '2016-09-21', '2016-09-22', '2016-09-23',\n       '2016-09-24', '2016-09-25', '2016-09-26', '2016-09-27',\n       '2016-09-28', '2016-09-29', '2016-09-30', '2016-10-01',\n       '2016-10-02', '2016-10-03', '2016-10-04', '2016-10-05',\n       '2016-10-06', '2016-10-07', '2016-10-08', '2016-10-09',\n       '2016-10-10', '2016-10-11', '2016-10-12', '2016-10-13',\n       '2016-10-14', '2016-10-15', '2016-10-16', '2016-10-17',\n       '2016-10-18', '2016-10-19', '2016-10-20', '2016-10-21',\n       '2016-10-22', '2016-10-23', '2016-10-24', '2016-10-25',\n       '2016-10-26', '2016-10-27', '2016-10-28', '2016-10-29',\n       '2016-10-30', '2016-10-31', '2016-11-01', '2016-11-02',\n       '2016-11-03', '2016-11-04', '2016-11-05', '2016-11-06',\n       '2016-11-07', '2016-11-08', '2016-11-09', '2016-11-10',\n       '2016-11-11', '2016-11-12', '2016-11-13', '2016-11-14',\n       '2016-11-15', '2016-11-16', '2016-11-17', '2016-11-18',\n       '2016-11-19', '2016-11-20', '2016-11-21', '2016-11-22',\n       '2016-11-23', '2016-11-24', '2016-11-25', '2016-11-26',\n       '2016-11-27', '2016-11-28', '2016-11-29', '2016-11-30',\n       '2016-12-01', '2016-12-02', '2016-12-03', '2016-12-04',\n       '2016-12-05', '2016-12-06', '2016-12-07', '2016-12-08',\n       '2016-12-09', '2016-12-10', '2016-12-11', '2016-12-12',\n       '2016-12-13', '2016-12-14', '2016-12-15', '2016-12-16',\n       '2016-12-17', '2016-12-18', '2016-12-19', '2016-12-20',\n       '2016-12-21', '2016-12-22', '2016-12-23', '2016-12-24',\n       '2016-12-25', '2016-12-26', '2016-12-27', '2016-12-28',\n       '2016-12-29', '2016-12-30', '2016-12-31', '2017-01-01',\n       '2017-01-02', '2017-01-03', '2017-01-04', '2017-01-05',\n       '2017-01-06', '2017-01-07', '2017-01-08', '2017-01-09',\n       '2017-01-10', '2017-01-11', '2017-01-12', '2017-01-13',\n       '2017-01-14', '2017-01-15', '2017-01-16', '2017-01-17',\n       '2017-01-18', '2017-01-19', '2017-01-20', '2017-01-21',\n       '2017-01-22', '2017-01-23', '2017-01-24', '2017-01-25',\n       '2017-01-26', '2017-01-27', '2017-01-28', '2017-01-29',\n       '2017-01-30', '2017-01-31', '2017-02-01', '2017-02-02',\n       '2017-02-03', '2017-02-04', '2017-02-05', '2017-02-06',\n       '2017-02-07', '2017-02-08', '2017-02-09', '2017-02-10',\n       '2017-02-11', '2017-02-12', '2017-02-13', '2017-02-14',\n       '2017-02-15', '2017-02-16', '2017-02-17', '2017-02-18',\n       '2017-02-19', '2017-02-20', '2017-02-21', '2017-02-22',\n       '2017-02-23', '2017-02-24', '2017-02-25', '2017-02-26',\n       '2017-02-27', '2017-02-28', '2017-03-01', '2017-03-02',\n       '2017-03-03', '2017-03-04', '2017-03-05', '2017-03-06',\n       '2017-03-07', '2017-03-08', '2017-03-09', '2017-03-10',\n       '2017-03-11', '2017-03-12', '2017-03-13', '2017-03-14',\n       '2017-03-15', '2017-03-16', '2017-03-17', '2017-03-18',\n       '2017-03-19', '2017-03-20', '2017-03-21', '2017-03-22',\n       '2017-03-23', '2017-03-24', '2017-03-25', '2017-03-26',\n       '2017-03-27', '2017-03-28', '2017-03-29', '2017-03-30',\n       '2017-03-31', '2017-04-01', '2017-04-02', '2017-04-03',\n       '2017-04-04', '2017-04-05', '2017-04-06', '2017-04-07',\n       '2017-04-08', '2017-04-09', '2017-04-10', '2017-04-11',\n       '2017-04-12', '2017-04-13', '2017-04-14', '2017-04-15',\n       '2017-04-16', '2017-04-17', '2017-04-18', '2017-04-19',\n       '2017-04-20', '2017-04-21', '2017-04-22', '2017-04-23',\n       '2017-04-24', '2017-04-25', '2017-04-26', '2017-04-27',\n       '2017-04-28', '2017-04-29', '2017-04-30', '2017-05-01',\n       '2017-05-02', '2017-05-03', '2017-05-04', '2017-05-05',\n       '2017-05-06', '2017-05-07', '2017-05-08', '2017-05-09',\n       '2017-05-10', '2017-05-11', '2017-05-12', '2017-05-13',\n       '2017-05-14', '2017-05-15', '2017-05-16', '2017-05-17',\n       '2017-05-18', '2017-05-19', '2017-05-20', '2017-05-21',\n       '2017-05-22', '2017-05-23'], dtype=object)"
     },
     "execution_count": 114,
     "metadata": {},
     "output_type": "execute_result"
    }
   ],
   "source": [
    "data['日期'].unique()"
   ],
   "metadata": {
    "collapsed": false,
    "ExecuteTime": {
     "end_time": "2024-05-19T02:45:10.694328400Z",
     "start_time": "2024-05-19T02:45:10.690817800Z"
    }
   },
   "id": "267b9f1c1aa87c14",
   "execution_count": 114
  },
  {
   "cell_type": "code",
   "outputs": [],
   "source": [
    "# 完全按照时间序列排列\n",
    "\n",
    "for i, g in data.groupby('日期'):\n",
    "    _ = g[g['柜员号'] == 9049]\n",
    "    if _.shape[0] > 1:\n",
    "        g = g.drop(_.index[-1])\n",
    "    break"
   ],
   "metadata": {
    "collapsed": false,
    "ExecuteTime": {
     "end_time": "2024-05-19T03:26:08.768756700Z",
     "start_time": "2024-05-19T03:26:08.763539100Z"
    }
   },
   "id": "4be297a71adf6f97",
   "execution_count": 154
  },
  {
   "cell_type": "code",
   "outputs": [
    {
     "data": {
      "text/plain": "             日期   柜员号   尾箱余额 在/离行 是否开启循环\n800  2016-02-01  9049  13900   离行      是",
      "text/html": "<div>\n<style scoped>\n    .dataframe tbody tr th:only-of-type {\n        vertical-align: middle;\n    }\n\n    .dataframe tbody tr th {\n        vertical-align: top;\n    }\n\n    .dataframe thead th {\n        text-align: right;\n    }\n</style>\n<table border=\"1\" class=\"dataframe\">\n  <thead>\n    <tr style=\"text-align: right;\">\n      <th></th>\n      <th>日期</th>\n      <th>柜员号</th>\n      <th>尾箱余额</th>\n      <th>在/离行</th>\n      <th>是否开启循环</th>\n    </tr>\n  </thead>\n  <tbody>\n    <tr>\n      <th>800</th>\n      <td>2016-02-01</td>\n      <td>9049</td>\n      <td>13900</td>\n      <td>离行</td>\n      <td>是</td>\n    </tr>\n  </tbody>\n</table>\n</div>"
     },
     "execution_count": 155,
     "metadata": {},
     "output_type": "execute_result"
    }
   ],
   "source": [
    "g[g['柜员号'] == 9049]"
   ],
   "metadata": {
    "collapsed": false,
    "ExecuteTime": {
     "end_time": "2024-05-19T03:26:11.975987900Z",
     "start_time": "2024-05-19T03:26:11.965301600Z"
    }
   },
   "id": "ae90999b65a04de5",
   "execution_count": 155
  },
  {
   "cell_type": "code",
   "outputs": [
    {
     "data": {
      "text/plain": "new_index 尾箱余额_9012 在/离行_9012 是否开启循环_9012 尾箱余额_9003 在/离行_9003 是否开启循环_9003  \\\n0               600        在行           是    270200        在行           是   \n\nnew_index 尾箱余额_9049 在/离行_9049 是否开启循环_9049 尾箱余额_9025  ... 尾箱余额_9039 在/离行_9039  \\\n0             13900        离行           是     25500  ...    221100        离行   \n\nnew_index 是否开启循环_9039 尾箱余额_9472 在/离行_9472 是否开启循环_9472 尾箱余额_9490 在/离行_9490  \\\n0                   否     72600        在行           是    555800        在行   \n\nnew_index 是否开启循环_9490          日期  \n0                   是  2016-02-01  \n\n[1 rows x 40 columns]",
      "text/html": "<div>\n<style scoped>\n    .dataframe tbody tr th:only-of-type {\n        vertical-align: middle;\n    }\n\n    .dataframe tbody tr th {\n        vertical-align: top;\n    }\n\n    .dataframe thead th {\n        text-align: right;\n    }\n</style>\n<table border=\"1\" class=\"dataframe\">\n  <thead>\n    <tr style=\"text-align: right;\">\n      <th>new_index</th>\n      <th>尾箱余额_9012</th>\n      <th>在/离行_9012</th>\n      <th>是否开启循环_9012</th>\n      <th>尾箱余额_9003</th>\n      <th>在/离行_9003</th>\n      <th>是否开启循环_9003</th>\n      <th>尾箱余额_9049</th>\n      <th>在/离行_9049</th>\n      <th>是否开启循环_9049</th>\n      <th>尾箱余额_9025</th>\n      <th>...</th>\n      <th>尾箱余额_9039</th>\n      <th>在/离行_9039</th>\n      <th>是否开启循环_9039</th>\n      <th>尾箱余额_9472</th>\n      <th>在/离行_9472</th>\n      <th>是否开启循环_9472</th>\n      <th>尾箱余额_9490</th>\n      <th>在/离行_9490</th>\n      <th>是否开启循环_9490</th>\n      <th>日期</th>\n    </tr>\n  </thead>\n  <tbody>\n    <tr>\n      <th>0</th>\n      <td>600</td>\n      <td>在行</td>\n      <td>是</td>\n      <td>270200</td>\n      <td>在行</td>\n      <td>是</td>\n      <td>13900</td>\n      <td>离行</td>\n      <td>是</td>\n      <td>25500</td>\n      <td>...</td>\n      <td>221100</td>\n      <td>离行</td>\n      <td>否</td>\n      <td>72600</td>\n      <td>在行</td>\n      <td>是</td>\n      <td>555800</td>\n      <td>在行</td>\n      <td>是</td>\n      <td>2016-02-01</td>\n    </tr>\n  </tbody>\n</table>\n<p>1 rows × 40 columns</p>\n</div>"
     },
     "execution_count": 191,
     "metadata": {},
     "output_type": "execute_result"
    }
   ],
   "source": [
    "_ = g.drop(['日期'], axis=1).set_index('柜员号', drop=True).stack().reset_index()\n",
    "_['new_index'] = _['level_1'] + '_' + _['柜员号'].astype(str)\n",
    "_ = _.set_index('new_index').drop(['柜员号', 'level_1'], axis=1).T\n",
    "_['日期'] = g['日期'].unique().item()\n",
    "_"
   ],
   "metadata": {
    "collapsed": false,
    "ExecuteTime": {
     "end_time": "2024-05-19T03:44:54.029518400Z",
     "start_time": "2024-05-19T03:44:54.012765300Z"
    }
   },
   "id": "79ff6fb925138df1",
   "execution_count": 191
  },
  {
   "cell_type": "code",
   "outputs": [
    {
     "data": {
      "text/plain": "new_index   尾箱余额_9012   在/离行_9012 是否开启循环_9012   尾箱余额_9003   在/离行_9003  \\\n0                 600          在行           是      270200          在行   \n日期         2016-02-01  2016-02-01  2016-02-01  2016-02-01  2016-02-01   \n\nnew_index 是否开启循环_9003   尾箱余额_9049   在/离行_9049 是否开启循环_9049   尾箱余额_9025  ...  \\\n0                   是       13900          离行           是       25500  ...   \n日期         2016-02-01  2016-02-01  2016-02-01  2016-02-01  2016-02-01  ...   \n\nnew_index 是否开启循环_9008   尾箱余额_9039   在/离行_9039 是否开启循环_9039   尾箱余额_9472  \\\n0                   否      221100          离行           否       72600   \n日期         2016-02-01  2016-02-01  2016-02-01  2016-02-01  2016-02-01   \n\nnew_index   在/离行_9472 是否开启循环_9472   尾箱余额_9490   在/离行_9490 是否开启循环_9490  \n0                  在行           是      555800          在行           是  \n日期         2016-02-01  2016-02-01  2016-02-01  2016-02-01  2016-02-01  \n\n[2 rows x 39 columns]",
      "text/html": "<div>\n<style scoped>\n    .dataframe tbody tr th:only-of-type {\n        vertical-align: middle;\n    }\n\n    .dataframe tbody tr th {\n        vertical-align: top;\n    }\n\n    .dataframe thead th {\n        text-align: right;\n    }\n</style>\n<table border=\"1\" class=\"dataframe\">\n  <thead>\n    <tr style=\"text-align: right;\">\n      <th>new_index</th>\n      <th>尾箱余额_9012</th>\n      <th>在/离行_9012</th>\n      <th>是否开启循环_9012</th>\n      <th>尾箱余额_9003</th>\n      <th>在/离行_9003</th>\n      <th>是否开启循环_9003</th>\n      <th>尾箱余额_9049</th>\n      <th>在/离行_9049</th>\n      <th>是否开启循环_9049</th>\n      <th>尾箱余额_9025</th>\n      <th>...</th>\n      <th>是否开启循环_9008</th>\n      <th>尾箱余额_9039</th>\n      <th>在/离行_9039</th>\n      <th>是否开启循环_9039</th>\n      <th>尾箱余额_9472</th>\n      <th>在/离行_9472</th>\n      <th>是否开启循环_9472</th>\n      <th>尾箱余额_9490</th>\n      <th>在/离行_9490</th>\n      <th>是否开启循环_9490</th>\n    </tr>\n  </thead>\n  <tbody>\n    <tr>\n      <th>0</th>\n      <td>600</td>\n      <td>在行</td>\n      <td>是</td>\n      <td>270200</td>\n      <td>在行</td>\n      <td>是</td>\n      <td>13900</td>\n      <td>离行</td>\n      <td>是</td>\n      <td>25500</td>\n      <td>...</td>\n      <td>否</td>\n      <td>221100</td>\n      <td>离行</td>\n      <td>否</td>\n      <td>72600</td>\n      <td>在行</td>\n      <td>是</td>\n      <td>555800</td>\n      <td>在行</td>\n      <td>是</td>\n    </tr>\n    <tr>\n      <th>日期</th>\n      <td>2016-02-01</td>\n      <td>2016-02-01</td>\n      <td>2016-02-01</td>\n      <td>2016-02-01</td>\n      <td>2016-02-01</td>\n      <td>2016-02-01</td>\n      <td>2016-02-01</td>\n      <td>2016-02-01</td>\n      <td>2016-02-01</td>\n      <td>2016-02-01</td>\n      <td>...</td>\n      <td>2016-02-01</td>\n      <td>2016-02-01</td>\n      <td>2016-02-01</td>\n      <td>2016-02-01</td>\n      <td>2016-02-01</td>\n      <td>2016-02-01</td>\n      <td>2016-02-01</td>\n      <td>2016-02-01</td>\n      <td>2016-02-01</td>\n      <td>2016-02-01</td>\n    </tr>\n  </tbody>\n</table>\n<p>2 rows × 39 columns</p>\n</div>"
     },
     "execution_count": 190,
     "metadata": {},
     "output_type": "execute_result"
    }
   ],
   "source": [
    "_.T"
   ],
   "metadata": {
    "collapsed": false,
    "ExecuteTime": {
     "end_time": "2024-05-19T03:44:44.722142900Z",
     "start_time": "2024-05-19T03:44:44.709993200Z"
    }
   },
   "id": "a983c540f0cf8d38",
   "execution_count": 190
  },
  {
   "cell_type": "code",
   "outputs": [
    {
     "data": {
      "text/plain": "array(['2016-02-01'], dtype=object)"
     },
     "execution_count": 187,
     "metadata": {},
     "output_type": "execute_result"
    }
   ],
   "source": [],
   "metadata": {
    "collapsed": false,
    "ExecuteTime": {
     "end_time": "2024-05-19T03:43:53.345663500Z",
     "start_time": "2024-05-19T03:43:53.338675900Z"
    }
   },
   "id": "ea11898266e13d23",
   "execution_count": 187
  },
  {
   "cell_type": "code",
   "outputs": [
    {
     "data": {
      "text/plain": "                      0           1\n柜员号                                \n9012 日期      2016-02-01  2016-02-01\n     尾箱余额           600         600\n     在/离行            在行          在行\n     是否开启循环           是           是\n9003 日期      2016-02-01  2016-02-01\n     尾箱余额        270200      270200\n     在/离行            在行          在行\n     是否开启循环           是           是\n9049 日期      2016-02-01  2016-02-01\n     尾箱余额         13900       13900\n     在/离行            离行          离行\n     是否开启循环           是           是\n9025 日期      2016-02-01  2016-02-01\n     尾箱余额         25500       25500\n     在/离行            离行          离行\n     是否开启循环           否           否\n9053 日期      2016-02-01  2016-02-01\n     尾箱余额        184300      184300\n     在/离行            离行          离行\n     是否开启循环           否           否\n9077 日期      2016-02-01  2016-02-01\n     尾箱余额         90500       90500\n     在/离行            离行          离行\n     是否开启循环           否           否\n9207 日期      2016-02-01  2016-02-01\n     尾箱余额         89400       89400\n     在/离行            在行          在行\n     是否开启循环           是           是\n9200 日期      2016-02-01  2016-02-01\n     尾箱余额        271300      271300\n     在/离行            在行          在行\n     是否开启循环           是           是\n9164 日期      2016-02-01  2016-02-01\n     尾箱余额        159800      159800\n     在/离行            在行          在行\n     是否开启循环           是           是\n9008 日期      2016-02-01  2016-02-01\n     尾箱余额        173300      173300\n     在/离行            离行          离行\n     是否开启循环           否           否\n9039 日期      2016-02-01  2016-02-01\n     尾箱余额        221100      221100\n     在/离行            离行          离行\n     是否开启循环           否           否\n9472 日期      2016-02-01  2016-02-01\n     尾箱余额         72600       72600\n     在/离行            在行          在行\n     是否开启循环           是           是\n9490 日期      2016-02-01  2016-02-01\n     尾箱余额        555800      555800\n     在/离行            在行          在行\n     是否开启循环           是           是",
      "text/html": "<div>\n<style scoped>\n    .dataframe tbody tr th:only-of-type {\n        vertical-align: middle;\n    }\n\n    .dataframe tbody tr th {\n        vertical-align: top;\n    }\n\n    .dataframe thead th {\n        text-align: right;\n    }\n</style>\n<table border=\"1\" class=\"dataframe\">\n  <thead>\n    <tr style=\"text-align: right;\">\n      <th></th>\n      <th></th>\n      <th>0</th>\n      <th>1</th>\n    </tr>\n    <tr>\n      <th>柜员号</th>\n      <th></th>\n      <th></th>\n      <th></th>\n    </tr>\n  </thead>\n  <tbody>\n    <tr>\n      <th rowspan=\"4\" valign=\"top\">9012</th>\n      <th>日期</th>\n      <td>2016-02-01</td>\n      <td>2016-02-01</td>\n    </tr>\n    <tr>\n      <th>尾箱余额</th>\n      <td>600</td>\n      <td>600</td>\n    </tr>\n    <tr>\n      <th>在/离行</th>\n      <td>在行</td>\n      <td>在行</td>\n    </tr>\n    <tr>\n      <th>是否开启循环</th>\n      <td>是</td>\n      <td>是</td>\n    </tr>\n    <tr>\n      <th rowspan=\"4\" valign=\"top\">9003</th>\n      <th>日期</th>\n      <td>2016-02-01</td>\n      <td>2016-02-01</td>\n    </tr>\n    <tr>\n      <th>尾箱余额</th>\n      <td>270200</td>\n      <td>270200</td>\n    </tr>\n    <tr>\n      <th>在/离行</th>\n      <td>在行</td>\n      <td>在行</td>\n    </tr>\n    <tr>\n      <th>是否开启循环</th>\n      <td>是</td>\n      <td>是</td>\n    </tr>\n    <tr>\n      <th rowspan=\"4\" valign=\"top\">9049</th>\n      <th>日期</th>\n      <td>2016-02-01</td>\n      <td>2016-02-01</td>\n    </tr>\n    <tr>\n      <th>尾箱余额</th>\n      <td>13900</td>\n      <td>13900</td>\n    </tr>\n    <tr>\n      <th>在/离行</th>\n      <td>离行</td>\n      <td>离行</td>\n    </tr>\n    <tr>\n      <th>是否开启循环</th>\n      <td>是</td>\n      <td>是</td>\n    </tr>\n    <tr>\n      <th rowspan=\"4\" valign=\"top\">9025</th>\n      <th>日期</th>\n      <td>2016-02-01</td>\n      <td>2016-02-01</td>\n    </tr>\n    <tr>\n      <th>尾箱余额</th>\n      <td>25500</td>\n      <td>25500</td>\n    </tr>\n    <tr>\n      <th>在/离行</th>\n      <td>离行</td>\n      <td>离行</td>\n    </tr>\n    <tr>\n      <th>是否开启循环</th>\n      <td>否</td>\n      <td>否</td>\n    </tr>\n    <tr>\n      <th rowspan=\"4\" valign=\"top\">9053</th>\n      <th>日期</th>\n      <td>2016-02-01</td>\n      <td>2016-02-01</td>\n    </tr>\n    <tr>\n      <th>尾箱余额</th>\n      <td>184300</td>\n      <td>184300</td>\n    </tr>\n    <tr>\n      <th>在/离行</th>\n      <td>离行</td>\n      <td>离行</td>\n    </tr>\n    <tr>\n      <th>是否开启循环</th>\n      <td>否</td>\n      <td>否</td>\n    </tr>\n    <tr>\n      <th rowspan=\"4\" valign=\"top\">9077</th>\n      <th>日期</th>\n      <td>2016-02-01</td>\n      <td>2016-02-01</td>\n    </tr>\n    <tr>\n      <th>尾箱余额</th>\n      <td>90500</td>\n      <td>90500</td>\n    </tr>\n    <tr>\n      <th>在/离行</th>\n      <td>离行</td>\n      <td>离行</td>\n    </tr>\n    <tr>\n      <th>是否开启循环</th>\n      <td>否</td>\n      <td>否</td>\n    </tr>\n    <tr>\n      <th rowspan=\"4\" valign=\"top\">9207</th>\n      <th>日期</th>\n      <td>2016-02-01</td>\n      <td>2016-02-01</td>\n    </tr>\n    <tr>\n      <th>尾箱余额</th>\n      <td>89400</td>\n      <td>89400</td>\n    </tr>\n    <tr>\n      <th>在/离行</th>\n      <td>在行</td>\n      <td>在行</td>\n    </tr>\n    <tr>\n      <th>是否开启循环</th>\n      <td>是</td>\n      <td>是</td>\n    </tr>\n    <tr>\n      <th rowspan=\"4\" valign=\"top\">9200</th>\n      <th>日期</th>\n      <td>2016-02-01</td>\n      <td>2016-02-01</td>\n    </tr>\n    <tr>\n      <th>尾箱余额</th>\n      <td>271300</td>\n      <td>271300</td>\n    </tr>\n    <tr>\n      <th>在/离行</th>\n      <td>在行</td>\n      <td>在行</td>\n    </tr>\n    <tr>\n      <th>是否开启循环</th>\n      <td>是</td>\n      <td>是</td>\n    </tr>\n    <tr>\n      <th rowspan=\"4\" valign=\"top\">9164</th>\n      <th>日期</th>\n      <td>2016-02-01</td>\n      <td>2016-02-01</td>\n    </tr>\n    <tr>\n      <th>尾箱余额</th>\n      <td>159800</td>\n      <td>159800</td>\n    </tr>\n    <tr>\n      <th>在/离行</th>\n      <td>在行</td>\n      <td>在行</td>\n    </tr>\n    <tr>\n      <th>是否开启循环</th>\n      <td>是</td>\n      <td>是</td>\n    </tr>\n    <tr>\n      <th rowspan=\"4\" valign=\"top\">9008</th>\n      <th>日期</th>\n      <td>2016-02-01</td>\n      <td>2016-02-01</td>\n    </tr>\n    <tr>\n      <th>尾箱余额</th>\n      <td>173300</td>\n      <td>173300</td>\n    </tr>\n    <tr>\n      <th>在/离行</th>\n      <td>离行</td>\n      <td>离行</td>\n    </tr>\n    <tr>\n      <th>是否开启循环</th>\n      <td>否</td>\n      <td>否</td>\n    </tr>\n    <tr>\n      <th rowspan=\"4\" valign=\"top\">9039</th>\n      <th>日期</th>\n      <td>2016-02-01</td>\n      <td>2016-02-01</td>\n    </tr>\n    <tr>\n      <th>尾箱余额</th>\n      <td>221100</td>\n      <td>221100</td>\n    </tr>\n    <tr>\n      <th>在/离行</th>\n      <td>离行</td>\n      <td>离行</td>\n    </tr>\n    <tr>\n      <th>是否开启循环</th>\n      <td>否</td>\n      <td>否</td>\n    </tr>\n    <tr>\n      <th rowspan=\"4\" valign=\"top\">9472</th>\n      <th>日期</th>\n      <td>2016-02-01</td>\n      <td>2016-02-01</td>\n    </tr>\n    <tr>\n      <th>尾箱余额</th>\n      <td>72600</td>\n      <td>72600</td>\n    </tr>\n    <tr>\n      <th>在/离行</th>\n      <td>在行</td>\n      <td>在行</td>\n    </tr>\n    <tr>\n      <th>是否开启循环</th>\n      <td>是</td>\n      <td>是</td>\n    </tr>\n    <tr>\n      <th rowspan=\"4\" valign=\"top\">9490</th>\n      <th>日期</th>\n      <td>2016-02-01</td>\n      <td>2016-02-01</td>\n    </tr>\n    <tr>\n      <th>尾箱余额</th>\n      <td>555800</td>\n      <td>555800</td>\n    </tr>\n    <tr>\n      <th>在/离行</th>\n      <td>在行</td>\n      <td>在行</td>\n    </tr>\n    <tr>\n      <th>是否开启循环</th>\n      <td>是</td>\n      <td>是</td>\n    </tr>\n  </tbody>\n</table>\n</div>"
     },
     "execution_count": 176,
     "metadata": {},
     "output_type": "execute_result"
    }
   ],
   "source": [
    "pd.concat([_, _], axis=1)"
   ],
   "metadata": {
    "collapsed": false,
    "ExecuteTime": {
     "end_time": "2024-05-19T03:38:55.050543700Z",
     "start_time": "2024-05-19T03:38:55.042445500Z"
    }
   },
   "id": "7cc0c8b0f687c14f",
   "execution_count": 176
  },
  {
   "cell_type": "code",
   "outputs": [
    {
     "data": {
      "text/plain": "              日期   柜员号    尾箱余额 在/离行 是否开启循环\n0     2016-02-01  9012     600   在行      是\n400   2016-02-01  9003  270200   在行      是\n800   2016-02-01  9049   13900   离行      是\n1200  2016-02-01  9025   25500   离行      否\n1600  2016-02-01  9053  184300   离行      否\n2000  2016-02-01  9077   90500   离行      否\n2400  2016-02-01  9207   89400   在行      是\n2800  2016-02-01  9200  271300   在行      是\n3200  2016-02-01  9164  159800   在行      是\n3600  2016-02-01  9008  173300   离行      否\n4000  2016-02-01  9039  221100   离行      否\n5200  2016-02-01  9472   72600   在行      是\n5600  2016-02-01  9490  555800   在行      是",
      "text/html": "<div>\n<style scoped>\n    .dataframe tbody tr th:only-of-type {\n        vertical-align: middle;\n    }\n\n    .dataframe tbody tr th {\n        vertical-align: top;\n    }\n\n    .dataframe thead th {\n        text-align: right;\n    }\n</style>\n<table border=\"1\" class=\"dataframe\">\n  <thead>\n    <tr style=\"text-align: right;\">\n      <th></th>\n      <th>日期</th>\n      <th>柜员号</th>\n      <th>尾箱余额</th>\n      <th>在/离行</th>\n      <th>是否开启循环</th>\n    </tr>\n  </thead>\n  <tbody>\n    <tr>\n      <th>0</th>\n      <td>2016-02-01</td>\n      <td>9012</td>\n      <td>600</td>\n      <td>在行</td>\n      <td>是</td>\n    </tr>\n    <tr>\n      <th>400</th>\n      <td>2016-02-01</td>\n      <td>9003</td>\n      <td>270200</td>\n      <td>在行</td>\n      <td>是</td>\n    </tr>\n    <tr>\n      <th>800</th>\n      <td>2016-02-01</td>\n      <td>9049</td>\n      <td>13900</td>\n      <td>离行</td>\n      <td>是</td>\n    </tr>\n    <tr>\n      <th>1200</th>\n      <td>2016-02-01</td>\n      <td>9025</td>\n      <td>25500</td>\n      <td>离行</td>\n      <td>否</td>\n    </tr>\n    <tr>\n      <th>1600</th>\n      <td>2016-02-01</td>\n      <td>9053</td>\n      <td>184300</td>\n      <td>离行</td>\n      <td>否</td>\n    </tr>\n    <tr>\n      <th>2000</th>\n      <td>2016-02-01</td>\n      <td>9077</td>\n      <td>90500</td>\n      <td>离行</td>\n      <td>否</td>\n    </tr>\n    <tr>\n      <th>2400</th>\n      <td>2016-02-01</td>\n      <td>9207</td>\n      <td>89400</td>\n      <td>在行</td>\n      <td>是</td>\n    </tr>\n    <tr>\n      <th>2800</th>\n      <td>2016-02-01</td>\n      <td>9200</td>\n      <td>271300</td>\n      <td>在行</td>\n      <td>是</td>\n    </tr>\n    <tr>\n      <th>3200</th>\n      <td>2016-02-01</td>\n      <td>9164</td>\n      <td>159800</td>\n      <td>在行</td>\n      <td>是</td>\n    </tr>\n    <tr>\n      <th>3600</th>\n      <td>2016-02-01</td>\n      <td>9008</td>\n      <td>173300</td>\n      <td>离行</td>\n      <td>否</td>\n    </tr>\n    <tr>\n      <th>4000</th>\n      <td>2016-02-01</td>\n      <td>9039</td>\n      <td>221100</td>\n      <td>离行</td>\n      <td>否</td>\n    </tr>\n    <tr>\n      <th>5200</th>\n      <td>2016-02-01</td>\n      <td>9472</td>\n      <td>72600</td>\n      <td>在行</td>\n      <td>是</td>\n    </tr>\n    <tr>\n      <th>5600</th>\n      <td>2016-02-01</td>\n      <td>9490</td>\n      <td>555800</td>\n      <td>在行</td>\n      <td>是</td>\n    </tr>\n  </tbody>\n</table>\n</div>"
     },
     "execution_count": 161,
     "metadata": {},
     "output_type": "execute_result"
    }
   ],
   "source": [
    "g"
   ],
   "metadata": {
    "collapsed": false,
    "ExecuteTime": {
     "end_time": "2024-05-19T03:30:41.692158900Z",
     "start_time": "2024-05-19T03:30:41.676411Z"
    }
   },
   "id": "e7aac86c5426efcb",
   "execution_count": 161
  },
  {
   "cell_type": "code",
   "outputs": [
    {
     "data": {
      "text/plain": "0       9012\n400     9003\n800     9049\n1200    9025\n1600    9053\n2000    9077\n2400    9207\n2800    9200\n3200    9164\n3600    9008\n4000    9039\n4400    9049\n5200    9472\n5600    9490\nName: 柜员号, dtype: int64"
     },
     "execution_count": 131,
     "metadata": {},
     "output_type": "execute_result"
    }
   ],
   "source": [
    "new_index = []\n",
    "for g['柜员号']"
   ],
   "metadata": {
    "collapsed": false,
    "ExecuteTime": {
     "end_time": "2024-05-19T02:57:56.216166800Z",
     "start_time": "2024-05-19T02:57:56.205868500Z"
    }
   },
   "id": "a4618fc7517cea34",
   "execution_count": 131
  },
  {
   "cell_type": "code",
   "outputs": [
    {
     "data": {
      "text/plain": "              日期   柜员号    尾箱余额 在/离行 是否开启循环\n0     2016-02-01  9012     600   在行      是\n400   2016-02-01  9003  270200   在行      是\n800   2016-02-01  9049   13900   离行      是\n1200  2016-02-01  9025   25500   离行      否\n1600  2016-02-01  9053  184300   离行      否\n2000  2016-02-01  9077   90500   离行      否\n2400  2016-02-01  9207   89400   在行      是\n2800  2016-02-01  9200  271300   在行      是\n3200  2016-02-01  9164  159800   在行      是\n3600  2016-02-01  9008  173300   离行      否\n4000  2016-02-01  9039  221100   离行      否\n4400  2016-02-01  9049   13900   离行      是\n5200  2016-02-01  9472   72600   在行      是\n5600  2016-02-01  9490  555800   在行      是",
      "text/html": "<div>\n<style scoped>\n    .dataframe tbody tr th:only-of-type {\n        vertical-align: middle;\n    }\n\n    .dataframe tbody tr th {\n        vertical-align: top;\n    }\n\n    .dataframe thead th {\n        text-align: right;\n    }\n</style>\n<table border=\"1\" class=\"dataframe\">\n  <thead>\n    <tr style=\"text-align: right;\">\n      <th></th>\n      <th>日期</th>\n      <th>柜员号</th>\n      <th>尾箱余额</th>\n      <th>在/离行</th>\n      <th>是否开启循环</th>\n    </tr>\n  </thead>\n  <tbody>\n    <tr>\n      <th>0</th>\n      <td>2016-02-01</td>\n      <td>9012</td>\n      <td>600</td>\n      <td>在行</td>\n      <td>是</td>\n    </tr>\n    <tr>\n      <th>400</th>\n      <td>2016-02-01</td>\n      <td>9003</td>\n      <td>270200</td>\n      <td>在行</td>\n      <td>是</td>\n    </tr>\n    <tr>\n      <th>800</th>\n      <td>2016-02-01</td>\n      <td>9049</td>\n      <td>13900</td>\n      <td>离行</td>\n      <td>是</td>\n    </tr>\n    <tr>\n      <th>1200</th>\n      <td>2016-02-01</td>\n      <td>9025</td>\n      <td>25500</td>\n      <td>离行</td>\n      <td>否</td>\n    </tr>\n    <tr>\n      <th>1600</th>\n      <td>2016-02-01</td>\n      <td>9053</td>\n      <td>184300</td>\n      <td>离行</td>\n      <td>否</td>\n    </tr>\n    <tr>\n      <th>2000</th>\n      <td>2016-02-01</td>\n      <td>9077</td>\n      <td>90500</td>\n      <td>离行</td>\n      <td>否</td>\n    </tr>\n    <tr>\n      <th>2400</th>\n      <td>2016-02-01</td>\n      <td>9207</td>\n      <td>89400</td>\n      <td>在行</td>\n      <td>是</td>\n    </tr>\n    <tr>\n      <th>2800</th>\n      <td>2016-02-01</td>\n      <td>9200</td>\n      <td>271300</td>\n      <td>在行</td>\n      <td>是</td>\n    </tr>\n    <tr>\n      <th>3200</th>\n      <td>2016-02-01</td>\n      <td>9164</td>\n      <td>159800</td>\n      <td>在行</td>\n      <td>是</td>\n    </tr>\n    <tr>\n      <th>3600</th>\n      <td>2016-02-01</td>\n      <td>9008</td>\n      <td>173300</td>\n      <td>离行</td>\n      <td>否</td>\n    </tr>\n    <tr>\n      <th>4000</th>\n      <td>2016-02-01</td>\n      <td>9039</td>\n      <td>221100</td>\n      <td>离行</td>\n      <td>否</td>\n    </tr>\n    <tr>\n      <th>4400</th>\n      <td>2016-02-01</td>\n      <td>9049</td>\n      <td>13900</td>\n      <td>离行</td>\n      <td>是</td>\n    </tr>\n    <tr>\n      <th>5200</th>\n      <td>2016-02-01</td>\n      <td>9472</td>\n      <td>72600</td>\n      <td>在行</td>\n      <td>是</td>\n    </tr>\n    <tr>\n      <th>5600</th>\n      <td>2016-02-01</td>\n      <td>9490</td>\n      <td>555800</td>\n      <td>在行</td>\n      <td>是</td>\n    </tr>\n  </tbody>\n</table>\n</div>"
     },
     "execution_count": 133,
     "metadata": {},
     "output_type": "execute_result"
    }
   ],
   "source": [
    "g"
   ],
   "metadata": {
    "collapsed": false,
    "ExecuteTime": {
     "end_time": "2024-05-19T02:59:37.121149200Z",
     "start_time": "2024-05-19T02:59:37.114262700Z"
    }
   },
   "id": "23745c8424e72fcc",
   "execution_count": 133
  },
  {
   "cell_type": "code",
   "outputs": [
    {
     "data": {
      "text/plain": "柜员号\n9049    2\n9012    1\n9003    1\n9025    1\n9053    1\n9077    1\n9207    1\n9200    1\n9164    1\n9008    1\n9039    1\n9472    1\n9490    1\nName: count, dtype: int64"
     },
     "execution_count": 118,
     "metadata": {},
     "output_type": "execute_result"
    }
   ],
   "source": [
    "g['柜员号'].value_counts()"
   ],
   "metadata": {
    "collapsed": false,
    "ExecuteTime": {
     "end_time": "2024-05-19T02:48:26.374029500Z",
     "start_time": "2024-05-19T02:48:26.363223200Z"
    }
   },
   "id": "fa700a8b6809e15f",
   "execution_count": 118
  },
  {
   "cell_type": "code",
   "outputs": [
    {
     "data": {
      "text/plain": "柜员号\n9049    2\n9012    1\n9003    1\n9025    1\n9053    1\n9077    1\n9207    1\n9200    1\n9164    1\n9008    1\n9039    1\n9472    1\n9490    1\nName: count, dtype: int64"
     },
     "execution_count": 143,
     "metadata": {},
     "output_type": "execute_result"
    }
   ],
   "source": [
    "g['柜员号'].value_counts()"
   ],
   "metadata": {
    "collapsed": false,
    "ExecuteTime": {
     "end_time": "2024-05-19T03:23:57.333995700Z",
     "start_time": "2024-05-19T03:23:57.326233100Z"
    }
   },
   "id": "ef435381b0a2d1c8",
   "execution_count": 143
  },
  {
   "cell_type": "code",
   "outputs": [
    {
     "data": {
      "text/plain": "               A  B   C\nGroup1 Index1  1  5   9\n       Index2  2  6  10\nGroup2 Index3  3  7  11\n       Index4  4  8  12",
      "text/html": "<div>\n<style scoped>\n    .dataframe tbody tr th:only-of-type {\n        vertical-align: middle;\n    }\n\n    .dataframe tbody tr th {\n        vertical-align: top;\n    }\n\n    .dataframe thead th {\n        text-align: right;\n    }\n</style>\n<table border=\"1\" class=\"dataframe\">\n  <thead>\n    <tr style=\"text-align: right;\">\n      <th></th>\n      <th></th>\n      <th>A</th>\n      <th>B</th>\n      <th>C</th>\n    </tr>\n  </thead>\n  <tbody>\n    <tr>\n      <th rowspan=\"2\" valign=\"top\">Group1</th>\n      <th>Index1</th>\n      <td>1</td>\n      <td>5</td>\n      <td>9</td>\n    </tr>\n    <tr>\n      <th>Index2</th>\n      <td>2</td>\n      <td>6</td>\n      <td>10</td>\n    </tr>\n    <tr>\n      <th rowspan=\"2\" valign=\"top\">Group2</th>\n      <th>Index3</th>\n      <td>3</td>\n      <td>7</td>\n      <td>11</td>\n    </tr>\n    <tr>\n      <th>Index4</th>\n      <td>4</td>\n      <td>8</td>\n      <td>12</td>\n    </tr>\n  </tbody>\n</table>\n</div>"
     },
     "execution_count": 158,
     "metadata": {},
     "output_type": "execute_result"
    }
   ],
   "source": [
    "import pandas as pd\n",
    "\n",
    "# 创建带有两级索引的DataFrame\n",
    "df = pd.DataFrame({'A': [1, 2, 3, 4],\n",
    "                   'B': [5, 6, 7, 8],\n",
    "                   'C': [9, 10, 11, 12]},\n",
    "                  index=pd.MultiIndex.from_tuples([('Group1', 'Index1'),\n",
    "                                                   ('Group1', 'Index2'),\n",
    "                                                   ('Group2', 'Index3'),\n",
    "                                                   ('Group2', 'Index4')]))\n",
    "\n",
    "df"
   ],
   "metadata": {
    "collapsed": false,
    "ExecuteTime": {
     "end_time": "2024-05-19T03:28:55.212269800Z",
     "start_time": "2024-05-19T03:28:55.187553300Z"
    }
   },
   "id": "756dafa2c0e38fd1",
   "execution_count": 158
  },
  {
   "cell_type": "code",
   "outputs": [
    {
     "data": {
      "text/plain": "  level_0 level_1  A  B   C\n0  Group1  Index1  1  5   9\n1  Group1  Index2  2  6  10\n2  Group2  Index3  3  7  11\n3  Group2  Index4  4  8  12",
      "text/html": "<div>\n<style scoped>\n    .dataframe tbody tr th:only-of-type {\n        vertical-align: middle;\n    }\n\n    .dataframe tbody tr th {\n        vertical-align: top;\n    }\n\n    .dataframe thead th {\n        text-align: right;\n    }\n</style>\n<table border=\"1\" class=\"dataframe\">\n  <thead>\n    <tr style=\"text-align: right;\">\n      <th></th>\n      <th>level_0</th>\n      <th>level_1</th>\n      <th>A</th>\n      <th>B</th>\n      <th>C</th>\n    </tr>\n  </thead>\n  <tbody>\n    <tr>\n      <th>0</th>\n      <td>Group1</td>\n      <td>Index1</td>\n      <td>1</td>\n      <td>5</td>\n      <td>9</td>\n    </tr>\n    <tr>\n      <th>1</th>\n      <td>Group1</td>\n      <td>Index2</td>\n      <td>2</td>\n      <td>6</td>\n      <td>10</td>\n    </tr>\n    <tr>\n      <th>2</th>\n      <td>Group2</td>\n      <td>Index3</td>\n      <td>3</td>\n      <td>7</td>\n      <td>11</td>\n    </tr>\n    <tr>\n      <th>3</th>\n      <td>Group2</td>\n      <td>Index4</td>\n      <td>4</td>\n      <td>8</td>\n      <td>12</td>\n    </tr>\n  </tbody>\n</table>\n</div>"
     },
     "execution_count": 159,
     "metadata": {},
     "output_type": "execute_result"
    }
   ],
   "source": [
    "# 合并两级索引为一级索引\n",
    "df.reset_index(inplace=True)\n",
    "df"
   ],
   "metadata": {
    "collapsed": false,
    "ExecuteTime": {
     "end_time": "2024-05-19T03:29:21.390254300Z",
     "start_time": "2024-05-19T03:29:21.356193600Z"
    }
   },
   "id": "a67939f7c641780",
   "execution_count": 159
  },
  {
   "cell_type": "code",
   "outputs": [
    {
     "name": "stdout",
     "output_type": "stream",
     "text": [
      "             日期   柜员号    尾箱余额 在/离行 是否开启循环\n",
      "400  2016-02-01  9003  270200   在行      是\n",
      "401  2016-02-02  9003  270200   在行      是\n",
      "402  2016-02-03  9003  262500   在行      是\n",
      "403  2016-02-04  9003  108300   在行      是\n",
      "404  2016-02-05  9003  428700   在行      是\n",
      "..          ...   ...     ...  ...    ...\n",
      "795  2017-03-02  9003   90500   在行      是\n",
      "796  2017-03-03  9003  266200   在行      是\n",
      "797  2017-03-04  9003  243300   在行      是\n",
      "798  2017-03-05  9003  251200   在行      是\n",
      "799  2017-03-06  9003  212100   在行      是\n",
      "\n",
      "[400 rows x 5 columns]\n"
     ]
    }
   ],
   "source": [
    "for i, sub_df in data.groupby('柜员号'):\n",
    "    print(sub_df)\n",
    "    break"
   ],
   "metadata": {
    "collapsed": false,
    "ExecuteTime": {
     "end_time": "2024-05-19T03:46:23.665175900Z",
     "start_time": "2024-05-19T03:46:23.650895400Z"
    }
   },
   "id": "2e2d8ebabb61d40d",
   "execution_count": 195
  },
  {
   "cell_type": "code",
   "outputs": [
    {
     "data": {
      "text/plain": "             日期   柜员号    尾箱余额 在/离行 是否开启循环\n400  2016-02-01  9003  270200   在行      是\n401  2016-02-02  9003  270200   在行      是\n402  2016-02-03  9003  262500   在行      是\n403  2016-02-04  9003  108300   在行      是\n404  2016-02-05  9003  428700   在行      是\n..          ...   ...     ...  ...    ...\n795  2017-03-02  9003   90500   在行      是\n796  2017-03-03  9003  266200   在行      是\n797  2017-03-04  9003  243300   在行      是\n798  2017-03-05  9003  251200   在行      是\n799  2017-03-06  9003  212100   在行      是\n\n[400 rows x 5 columns]",
      "text/html": "<div>\n<style scoped>\n    .dataframe tbody tr th:only-of-type {\n        vertical-align: middle;\n    }\n\n    .dataframe tbody tr th {\n        vertical-align: top;\n    }\n\n    .dataframe thead th {\n        text-align: right;\n    }\n</style>\n<table border=\"1\" class=\"dataframe\">\n  <thead>\n    <tr style=\"text-align: right;\">\n      <th></th>\n      <th>日期</th>\n      <th>柜员号</th>\n      <th>尾箱余额</th>\n      <th>在/离行</th>\n      <th>是否开启循环</th>\n    </tr>\n  </thead>\n  <tbody>\n    <tr>\n      <th>400</th>\n      <td>2016-02-01</td>\n      <td>9003</td>\n      <td>270200</td>\n      <td>在行</td>\n      <td>是</td>\n    </tr>\n    <tr>\n      <th>401</th>\n      <td>2016-02-02</td>\n      <td>9003</td>\n      <td>270200</td>\n      <td>在行</td>\n      <td>是</td>\n    </tr>\n    <tr>\n      <th>402</th>\n      <td>2016-02-03</td>\n      <td>9003</td>\n      <td>262500</td>\n      <td>在行</td>\n      <td>是</td>\n    </tr>\n    <tr>\n      <th>403</th>\n      <td>2016-02-04</td>\n      <td>9003</td>\n      <td>108300</td>\n      <td>在行</td>\n      <td>是</td>\n    </tr>\n    <tr>\n      <th>404</th>\n      <td>2016-02-05</td>\n      <td>9003</td>\n      <td>428700</td>\n      <td>在行</td>\n      <td>是</td>\n    </tr>\n    <tr>\n      <th>...</th>\n      <td>...</td>\n      <td>...</td>\n      <td>...</td>\n      <td>...</td>\n      <td>...</td>\n    </tr>\n    <tr>\n      <th>795</th>\n      <td>2017-03-02</td>\n      <td>9003</td>\n      <td>90500</td>\n      <td>在行</td>\n      <td>是</td>\n    </tr>\n    <tr>\n      <th>796</th>\n      <td>2017-03-03</td>\n      <td>9003</td>\n      <td>266200</td>\n      <td>在行</td>\n      <td>是</td>\n    </tr>\n    <tr>\n      <th>797</th>\n      <td>2017-03-04</td>\n      <td>9003</td>\n      <td>243300</td>\n      <td>在行</td>\n      <td>是</td>\n    </tr>\n    <tr>\n      <th>798</th>\n      <td>2017-03-05</td>\n      <td>9003</td>\n      <td>251200</td>\n      <td>在行</td>\n      <td>是</td>\n    </tr>\n    <tr>\n      <th>799</th>\n      <td>2017-03-06</td>\n      <td>9003</td>\n      <td>212100</td>\n      <td>在行</td>\n      <td>是</td>\n    </tr>\n  </tbody>\n</table>\n<p>400 rows × 5 columns</p>\n</div>"
     },
     "execution_count": 197,
     "metadata": {},
     "output_type": "execute_result"
    }
   ],
   "source": [
    "sub_df"
   ],
   "metadata": {
    "collapsed": false,
    "ExecuteTime": {
     "end_time": "2024-05-19T03:46:29.405638200Z",
     "start_time": "2024-05-19T03:46:29.397587900Z"
    }
   },
   "id": "650d5ff8fa8d744a",
   "execution_count": 197
  },
  {
   "cell_type": "code",
   "outputs": [
    {
     "data": {
      "text/plain": "柜员号\n13    400\nName: count, dtype: int64"
     },
     "execution_count": 215,
     "metadata": {},
     "output_type": "execute_result"
    }
   ],
   "source": [
    "data[data['柜员号'] != 9622].drop_duplicates().groupby('日期').count()['柜员号'].value_counts()"
   ],
   "metadata": {
    "collapsed": false,
    "ExecuteTime": {
     "end_time": "2024-05-19T04:04:58.254164600Z",
     "start_time": "2024-05-19T04:04:58.234569100Z"
    }
   },
   "id": "8170215871520e61",
   "execution_count": 215
  },
  {
   "cell_type": "code",
   "outputs": [],
   "source": [
    "data[data['柜员号'] != 9622].drop_duplicates().to_csv('../data/preprocessed/no_dup_13_series.csv', index=False)"
   ],
   "metadata": {
    "collapsed": false,
    "ExecuteTime": {
     "end_time": "2024-05-19T09:07:59.344867500Z",
     "start_time": "2024-05-19T09:07:59.312547400Z"
    }
   },
   "id": "3bfd3e79218193b8",
   "execution_count": 218
  },
  {
   "cell_type": "code",
   "outputs": [
    {
     "data": {
      "text/plain": "              日期   柜员号    尾箱余额 在/离行 是否开启循环\n4800  2016-04-19  9622  114800   离行      是\n4801  2016-04-20  9622  114700   离行      是\n4802  2016-04-21  9622   83400   离行      是\n4803  2016-04-22  9622   54500   离行      是\n4804  2016-04-23  9622   87800   离行      是\n...          ...   ...     ...  ...    ...\n5195  2017-05-19  9622   92500   离行      是\n5196  2017-05-20  9622  110600   离行      是\n5197  2017-05-21  9622  110600   离行      是\n5198  2017-05-22  9622  119500   离行      是\n5199  2017-05-23  9622  279500   离行      是\n\n[400 rows x 5 columns]",
      "text/html": "<div>\n<style scoped>\n    .dataframe tbody tr th:only-of-type {\n        vertical-align: middle;\n    }\n\n    .dataframe tbody tr th {\n        vertical-align: top;\n    }\n\n    .dataframe thead th {\n        text-align: right;\n    }\n</style>\n<table border=\"1\" class=\"dataframe\">\n  <thead>\n    <tr style=\"text-align: right;\">\n      <th></th>\n      <th>日期</th>\n      <th>柜员号</th>\n      <th>尾箱余额</th>\n      <th>在/离行</th>\n      <th>是否开启循环</th>\n    </tr>\n  </thead>\n  <tbody>\n    <tr>\n      <th>4800</th>\n      <td>2016-04-19</td>\n      <td>9622</td>\n      <td>114800</td>\n      <td>离行</td>\n      <td>是</td>\n    </tr>\n    <tr>\n      <th>4801</th>\n      <td>2016-04-20</td>\n      <td>9622</td>\n      <td>114700</td>\n      <td>离行</td>\n      <td>是</td>\n    </tr>\n    <tr>\n      <th>4802</th>\n      <td>2016-04-21</td>\n      <td>9622</td>\n      <td>83400</td>\n      <td>离行</td>\n      <td>是</td>\n    </tr>\n    <tr>\n      <th>4803</th>\n      <td>2016-04-22</td>\n      <td>9622</td>\n      <td>54500</td>\n      <td>离行</td>\n      <td>是</td>\n    </tr>\n    <tr>\n      <th>4804</th>\n      <td>2016-04-23</td>\n      <td>9622</td>\n      <td>87800</td>\n      <td>离行</td>\n      <td>是</td>\n    </tr>\n    <tr>\n      <th>...</th>\n      <td>...</td>\n      <td>...</td>\n      <td>...</td>\n      <td>...</td>\n      <td>...</td>\n    </tr>\n    <tr>\n      <th>5195</th>\n      <td>2017-05-19</td>\n      <td>9622</td>\n      <td>92500</td>\n      <td>离行</td>\n      <td>是</td>\n    </tr>\n    <tr>\n      <th>5196</th>\n      <td>2017-05-20</td>\n      <td>9622</td>\n      <td>110600</td>\n      <td>离行</td>\n      <td>是</td>\n    </tr>\n    <tr>\n      <th>5197</th>\n      <td>2017-05-21</td>\n      <td>9622</td>\n      <td>110600</td>\n      <td>离行</td>\n      <td>是</td>\n    </tr>\n    <tr>\n      <th>5198</th>\n      <td>2017-05-22</td>\n      <td>9622</td>\n      <td>119500</td>\n      <td>离行</td>\n      <td>是</td>\n    </tr>\n    <tr>\n      <th>5199</th>\n      <td>2017-05-23</td>\n      <td>9622</td>\n      <td>279500</td>\n      <td>离行</td>\n      <td>是</td>\n    </tr>\n  </tbody>\n</table>\n<p>400 rows × 5 columns</p>\n</div>"
     },
     "execution_count": 213,
     "metadata": {},
     "output_type": "execute_result"
    }
   ],
   "source": [
    "data[data['柜员号'] == 9622]"
   ],
   "metadata": {
    "collapsed": false,
    "ExecuteTime": {
     "end_time": "2024-05-19T04:00:06.474554900Z",
     "start_time": "2024-05-19T04:00:06.461483200Z"
    }
   },
   "id": "9881a20b1e0c3151",
   "execution_count": 213
  },
  {
   "cell_type": "code",
   "outputs": [
    {
     "data": {
      "text/plain": "                   尾箱余额 在/离行 是否开启循环\n日期         柜员号                     \n2016-02-01 9012     600   在行      是\n2016-02-02 9012  504000   在行      是\n2016-02-03 9012  467300   在行      是\n2016-02-04 9012  382200   在行      是\n2016-02-05 9012  298700   在行      是\n...                 ...  ...    ...\n2017-03-02 9490  163300   在行      是\n2017-03-03 9490  215500   在行      是\n2017-03-04 9490  241100   在行      是\n2017-03-05 9490  266400   在行      是\n2017-03-06 9490  244300   在行      是\n\n[6000 rows x 3 columns]",
      "text/html": "<div>\n<style scoped>\n    .dataframe tbody tr th:only-of-type {\n        vertical-align: middle;\n    }\n\n    .dataframe tbody tr th {\n        vertical-align: top;\n    }\n\n    .dataframe thead th {\n        text-align: right;\n    }\n</style>\n<table border=\"1\" class=\"dataframe\">\n  <thead>\n    <tr style=\"text-align: right;\">\n      <th></th>\n      <th></th>\n      <th>尾箱余额</th>\n      <th>在/离行</th>\n      <th>是否开启循环</th>\n    </tr>\n    <tr>\n      <th>日期</th>\n      <th>柜员号</th>\n      <th></th>\n      <th></th>\n      <th></th>\n    </tr>\n  </thead>\n  <tbody>\n    <tr>\n      <th>2016-02-01</th>\n      <th>9012</th>\n      <td>600</td>\n      <td>在行</td>\n      <td>是</td>\n    </tr>\n    <tr>\n      <th>2016-02-02</th>\n      <th>9012</th>\n      <td>504000</td>\n      <td>在行</td>\n      <td>是</td>\n    </tr>\n    <tr>\n      <th>2016-02-03</th>\n      <th>9012</th>\n      <td>467300</td>\n      <td>在行</td>\n      <td>是</td>\n    </tr>\n    <tr>\n      <th>2016-02-04</th>\n      <th>9012</th>\n      <td>382200</td>\n      <td>在行</td>\n      <td>是</td>\n    </tr>\n    <tr>\n      <th>2016-02-05</th>\n      <th>9012</th>\n      <td>298700</td>\n      <td>在行</td>\n      <td>是</td>\n    </tr>\n    <tr>\n      <th>...</th>\n      <th>...</th>\n      <td>...</td>\n      <td>...</td>\n      <td>...</td>\n    </tr>\n    <tr>\n      <th>2017-03-02</th>\n      <th>9490</th>\n      <td>163300</td>\n      <td>在行</td>\n      <td>是</td>\n    </tr>\n    <tr>\n      <th>2017-03-03</th>\n      <th>9490</th>\n      <td>215500</td>\n      <td>在行</td>\n      <td>是</td>\n    </tr>\n    <tr>\n      <th>2017-03-04</th>\n      <th>9490</th>\n      <td>241100</td>\n      <td>在行</td>\n      <td>是</td>\n    </tr>\n    <tr>\n      <th>2017-03-05</th>\n      <th>9490</th>\n      <td>266400</td>\n      <td>在行</td>\n      <td>是</td>\n    </tr>\n    <tr>\n      <th>2017-03-06</th>\n      <th>9490</th>\n      <td>244300</td>\n      <td>在行</td>\n      <td>是</td>\n    </tr>\n  </tbody>\n</table>\n<p>6000 rows × 3 columns</p>\n</div>"
     },
     "execution_count": 202,
     "metadata": {},
     "output_type": "execute_result"
    }
   ],
   "source": [
    "data.set_index('日期').set_index('柜员号', append=True)"
   ],
   "metadata": {
    "collapsed": false,
    "ExecuteTime": {
     "end_time": "2024-05-19T03:50:51.018904700Z",
     "start_time": "2024-05-19T03:50:51.011661800Z"
    }
   },
   "id": "6358ec45cf3dc420",
   "execution_count": 202
  }
 ],
 "metadata": {
  "kernelspec": {
   "display_name": "Python 3",
   "language": "python",
   "name": "python3"
  },
  "language_info": {
   "codemirror_mode": {
    "name": "ipython",
    "version": 2
   },
   "file_extension": ".py",
   "mimetype": "text/x-python",
   "name": "python",
   "nbconvert_exporter": "python",
   "pygments_lexer": "ipython2",
   "version": "2.7.6"
  }
 },
 "nbformat": 4,
 "nbformat_minor": 5
}
