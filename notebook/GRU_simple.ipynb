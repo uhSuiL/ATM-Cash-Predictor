{
 "cells": [
  {
   "cell_type": "code",
   "execution_count": 1,
   "id": "initial_id",
   "metadata": {
    "collapsed": true,
    "ExecuteTime": {
     "end_time": "2024-05-20T15:18:15.882157800Z",
     "start_time": "2024-05-20T15:18:14.239905200Z"
    }
   },
   "outputs": [],
   "source": [
    "from model import util, SimpleGRU\n",
    "from data import SlidingWinDataset\n",
    "\n",
    "import torch\n",
    "from torch import nn\n",
    "from torch.utils.data import DataLoader\n",
    "\n",
    "from tqdm import tqdm\n",
    "import pandas as pd\n",
    "import numpy as np\n",
    "from sklearn.metrics import mean_squared_error, root_mean_squared_error, mean_absolute_error"
   ]
  },
  {
   "cell_type": "markdown",
   "source": [
    "# Config"
   ],
   "metadata": {
    "collapsed": false
   },
   "id": "ebefef08c8d41f22"
  },
  {
   "cell_type": "code",
   "outputs": [],
   "source": [
    "SLIDING_WIN = 10\n",
    "BATCH_SIZE = 8\n",
    "SHUFFLE = True\n",
    "\n",
    "NUM_EPOCH = 100"
   ],
   "metadata": {
    "collapsed": false,
    "ExecuteTime": {
     "end_time": "2024-05-20T15:18:15.888019100Z",
     "start_time": "2024-05-20T15:18:15.884896700Z"
    }
   },
   "id": "13f6ebe368d356c6",
   "execution_count": 2
  },
  {
   "cell_type": "markdown",
   "source": [
    "# Data Preparation"
   ],
   "metadata": {
    "collapsed": false
   },
   "id": "67c2d1df703b6707"
  },
  {
   "cell_type": "code",
   "outputs": [],
   "source": [
    "train_data = pd.read_csv('../data/13series_time_stacked_cash/train.csv').drop(['日期'], axis=1).astype(float)\n",
    "test_data = pd.read_csv('../data/13series_time_stacked_cash/test.csv').drop(['日期'], axis=1).astype(float)\n",
    "\n",
    "valid_data = train_data.iloc[-20:, :]\n",
    "train_data = train_data.iloc[:-20, :]\n",
    "\n",
    "INPUT_DIM = train_data.shape[-1]"
   ],
   "metadata": {
    "collapsed": false,
    "ExecuteTime": {
     "end_time": "2024-05-20T15:18:15.903021200Z",
     "start_time": "2024-05-20T15:18:15.888019100Z"
    }
   },
   "id": "ffd594a20381eab7",
   "execution_count": 3
  },
  {
   "cell_type": "code",
   "outputs": [
    {
     "data": {
      "text/plain": "     尾箱余额_9012  尾箱余额_9003  尾箱余额_9049  尾箱余额_9025  尾箱余额_9053  尾箱余额_9077  \\\n0        600.0   270200.0    13900.0    25500.0   184300.0    90500.0   \n1     504000.0   270200.0   456500.0   617000.0   159500.0    56500.0   \n2     467300.0   262500.0   306500.0   565400.0   154100.0    66900.0   \n3     382200.0   108300.0   293200.0   529500.0   259800.0   421400.0   \n4     298700.0   428700.0   293200.0   543600.0   288300.0   432400.0   \n..         ...        ...        ...        ...        ...        ...   \n355   395200.0   370300.0   150900.0   122700.0   356200.0   490400.0   \n356   304200.0   363100.0    91600.0    19700.0   366600.0   600000.0   \n357   210800.0   318900.0    91600.0   616000.0   332300.0   570700.0   \n358   101900.0   247800.0      900.0   615400.0   472300.0   553600.0   \n359   439300.0   360700.0   854600.0   448700.0   455200.0   532100.0   \n\n     尾箱余额_9207  尾箱余额_9200  尾箱余额_9164  尾箱余额_9008  尾箱余额_9039  尾箱余额_9472  \\\n0      89400.0   271300.0   159800.0   173300.0   221100.0    72600.0   \n1      42700.0   227900.0    87900.0   173300.0   227300.0   101600.0   \n2     195900.0   136600.0   121300.0   169600.0   250300.0    75100.0   \n3     285400.0    14300.0    96600.0   139700.0   140300.0    49000.0   \n4     298800.0   487100.0   266400.0   194000.0   152900.0   307900.0   \n..         ...        ...        ...        ...        ...        ...   \n355   102700.0   243300.0   153800.0   213500.0   202200.0   574300.0   \n356    87200.0   120700.0   160800.0   213500.0   217300.0   619400.0   \n357    45900.0    29600.0   232900.0        0.0   248200.0   655400.0   \n358    40200.0   329400.0   165100.0    99800.0   235400.0   319200.0   \n359    31000.0   272500.0   192200.0    98800.0    95200.0   407900.0   \n\n     尾箱余额_9490  \n0     555800.0  \n1     145800.0  \n2     234600.0  \n3     300700.0  \n4     580300.0  \n..         ...  \n355   102200.0  \n356   354100.0  \n357   365300.0  \n358   483800.0  \n359    94500.0  \n\n[360 rows x 13 columns]",
      "text/html": "<div>\n<style scoped>\n    .dataframe tbody tr th:only-of-type {\n        vertical-align: middle;\n    }\n\n    .dataframe tbody tr th {\n        vertical-align: top;\n    }\n\n    .dataframe thead th {\n        text-align: right;\n    }\n</style>\n<table border=\"1\" class=\"dataframe\">\n  <thead>\n    <tr style=\"text-align: right;\">\n      <th></th>\n      <th>尾箱余额_9012</th>\n      <th>尾箱余额_9003</th>\n      <th>尾箱余额_9049</th>\n      <th>尾箱余额_9025</th>\n      <th>尾箱余额_9053</th>\n      <th>尾箱余额_9077</th>\n      <th>尾箱余额_9207</th>\n      <th>尾箱余额_9200</th>\n      <th>尾箱余额_9164</th>\n      <th>尾箱余额_9008</th>\n      <th>尾箱余额_9039</th>\n      <th>尾箱余额_9472</th>\n      <th>尾箱余额_9490</th>\n    </tr>\n  </thead>\n  <tbody>\n    <tr>\n      <th>0</th>\n      <td>600.0</td>\n      <td>270200.0</td>\n      <td>13900.0</td>\n      <td>25500.0</td>\n      <td>184300.0</td>\n      <td>90500.0</td>\n      <td>89400.0</td>\n      <td>271300.0</td>\n      <td>159800.0</td>\n      <td>173300.0</td>\n      <td>221100.0</td>\n      <td>72600.0</td>\n      <td>555800.0</td>\n    </tr>\n    <tr>\n      <th>1</th>\n      <td>504000.0</td>\n      <td>270200.0</td>\n      <td>456500.0</td>\n      <td>617000.0</td>\n      <td>159500.0</td>\n      <td>56500.0</td>\n      <td>42700.0</td>\n      <td>227900.0</td>\n      <td>87900.0</td>\n      <td>173300.0</td>\n      <td>227300.0</td>\n      <td>101600.0</td>\n      <td>145800.0</td>\n    </tr>\n    <tr>\n      <th>2</th>\n      <td>467300.0</td>\n      <td>262500.0</td>\n      <td>306500.0</td>\n      <td>565400.0</td>\n      <td>154100.0</td>\n      <td>66900.0</td>\n      <td>195900.0</td>\n      <td>136600.0</td>\n      <td>121300.0</td>\n      <td>169600.0</td>\n      <td>250300.0</td>\n      <td>75100.0</td>\n      <td>234600.0</td>\n    </tr>\n    <tr>\n      <th>3</th>\n      <td>382200.0</td>\n      <td>108300.0</td>\n      <td>293200.0</td>\n      <td>529500.0</td>\n      <td>259800.0</td>\n      <td>421400.0</td>\n      <td>285400.0</td>\n      <td>14300.0</td>\n      <td>96600.0</td>\n      <td>139700.0</td>\n      <td>140300.0</td>\n      <td>49000.0</td>\n      <td>300700.0</td>\n    </tr>\n    <tr>\n      <th>4</th>\n      <td>298700.0</td>\n      <td>428700.0</td>\n      <td>293200.0</td>\n      <td>543600.0</td>\n      <td>288300.0</td>\n      <td>432400.0</td>\n      <td>298800.0</td>\n      <td>487100.0</td>\n      <td>266400.0</td>\n      <td>194000.0</td>\n      <td>152900.0</td>\n      <td>307900.0</td>\n      <td>580300.0</td>\n    </tr>\n    <tr>\n      <th>...</th>\n      <td>...</td>\n      <td>...</td>\n      <td>...</td>\n      <td>...</td>\n      <td>...</td>\n      <td>...</td>\n      <td>...</td>\n      <td>...</td>\n      <td>...</td>\n      <td>...</td>\n      <td>...</td>\n      <td>...</td>\n      <td>...</td>\n    </tr>\n    <tr>\n      <th>355</th>\n      <td>395200.0</td>\n      <td>370300.0</td>\n      <td>150900.0</td>\n      <td>122700.0</td>\n      <td>356200.0</td>\n      <td>490400.0</td>\n      <td>102700.0</td>\n      <td>243300.0</td>\n      <td>153800.0</td>\n      <td>213500.0</td>\n      <td>202200.0</td>\n      <td>574300.0</td>\n      <td>102200.0</td>\n    </tr>\n    <tr>\n      <th>356</th>\n      <td>304200.0</td>\n      <td>363100.0</td>\n      <td>91600.0</td>\n      <td>19700.0</td>\n      <td>366600.0</td>\n      <td>600000.0</td>\n      <td>87200.0</td>\n      <td>120700.0</td>\n      <td>160800.0</td>\n      <td>213500.0</td>\n      <td>217300.0</td>\n      <td>619400.0</td>\n      <td>354100.0</td>\n    </tr>\n    <tr>\n      <th>357</th>\n      <td>210800.0</td>\n      <td>318900.0</td>\n      <td>91600.0</td>\n      <td>616000.0</td>\n      <td>332300.0</td>\n      <td>570700.0</td>\n      <td>45900.0</td>\n      <td>29600.0</td>\n      <td>232900.0</td>\n      <td>0.0</td>\n      <td>248200.0</td>\n      <td>655400.0</td>\n      <td>365300.0</td>\n    </tr>\n    <tr>\n      <th>358</th>\n      <td>101900.0</td>\n      <td>247800.0</td>\n      <td>900.0</td>\n      <td>615400.0</td>\n      <td>472300.0</td>\n      <td>553600.0</td>\n      <td>40200.0</td>\n      <td>329400.0</td>\n      <td>165100.0</td>\n      <td>99800.0</td>\n      <td>235400.0</td>\n      <td>319200.0</td>\n      <td>483800.0</td>\n    </tr>\n    <tr>\n      <th>359</th>\n      <td>439300.0</td>\n      <td>360700.0</td>\n      <td>854600.0</td>\n      <td>448700.0</td>\n      <td>455200.0</td>\n      <td>532100.0</td>\n      <td>31000.0</td>\n      <td>272500.0</td>\n      <td>192200.0</td>\n      <td>98800.0</td>\n      <td>95200.0</td>\n      <td>407900.0</td>\n      <td>94500.0</td>\n    </tr>\n  </tbody>\n</table>\n<p>360 rows × 13 columns</p>\n</div>"
     },
     "execution_count": 4,
     "metadata": {},
     "output_type": "execute_result"
    }
   ],
   "source": [
    "train_data"
   ],
   "metadata": {
    "collapsed": false,
    "ExecuteTime": {
     "end_time": "2024-05-20T15:18:15.924689100Z",
     "start_time": "2024-05-20T15:18:15.904021700Z"
    }
   },
   "id": "6da081bcbc3d5208",
   "execution_count": 4
  },
  {
   "cell_type": "code",
   "outputs": [],
   "source": [
    "train_set = SlidingWinDataset(train_data, SLIDING_WIN)\n",
    "valid_set = SlidingWinDataset(valid_data, SLIDING_WIN)\n",
    "test_set = SlidingWinDataset(test_data, SLIDING_WIN)\n",
    "\n",
    "train_loader = DataLoader(train_set, batch_size=BATCH_SIZE, shuffle=SHUFFLE)\n",
    "valid_loader = DataLoader(valid_set, batch_size=BATCH_SIZE, shuffle=SHUFFLE)\n",
    "test_loader = DataLoader(test_set, batch_size=BATCH_SIZE, shuffle=SHUFFLE)"
   ],
   "metadata": {
    "collapsed": false,
    "ExecuteTime": {
     "end_time": "2024-05-20T15:18:15.933977400Z",
     "start_time": "2024-05-20T15:18:15.923689800Z"
    }
   },
   "id": "88e87c3203d2b3a4",
   "execution_count": 5
  },
  {
   "cell_type": "markdown",
   "source": [
    "# Model Definition, Train, Test"
   ],
   "metadata": {
    "collapsed": false
   },
   "id": "24b8541533e6f29a"
  },
  {
   "cell_type": "code",
   "outputs": [
    {
     "name": "stderr",
     "output_type": "stream",
     "text": [
      "C:\\Users\\LiuShu\\miniconda3\\envs\\main\\Lib\\site-packages\\transformers\\utils\\generic.py:441: UserWarning: torch.utils._pytree._register_pytree_node is deprecated. Please use torch.utils._pytree.register_pytree_node instead.\n",
      "  _torch_pytree._register_pytree_node(\n"
     ]
    }
   ],
   "source": [
    "HIDDEN_DIM = 10\n",
    "model = SimpleGRU(\n",
    "    input_dim=INPUT_DIM,\n",
    "    hidden_dim=HIDDEN_DIM,\n",
    "    output_dim=INPUT_DIM,\n",
    ")\n",
    "optimizer = torch.optim.Adam(model.parameters())\n",
    "loss_fn = nn.MSELoss()\n",
    "metrics = [mean_squared_error, root_mean_squared_error, mean_absolute_error]"
   ],
   "metadata": {
    "collapsed": false,
    "ExecuteTime": {
     "end_time": "2024-05-20T15:18:16.913099300Z",
     "start_time": "2024-05-20T15:18:15.931978100Z"
    }
   },
   "id": "5d6a2b07d707d024",
   "execution_count": 6
  },
  {
   "cell_type": "code",
   "outputs": [],
   "source": [
    "@torch.no_grad()\n",
    "def test() -> np.ndarray:\n",
    "\tresults = []\n",
    "\tfor b, (X, y) in enumerate(test_loader):\n",
    "\t\ty_pred = model(X)\n",
    "\t\tbatch_results = [metrics_fn(y, y_pred) for metrics_fn in metrics]\n",
    "\n",
    "\t\tif loss_fn is not None:\n",
    "\t\t\tloss = loss_fn(y_pred, y).item()\n",
    "\t\t\tbatch_results = [loss] + batch_results\n",
    "\n",
    "\t\tresults.append(batch_results)\n",
    "\treturn np.array(results).mean(axis=0)\n",
    "\n",
    "def train(save_dir, num_epoch):\n",
    "    for e in tqdm(range(num_epoch)):\n",
    "        epoch_loss = []\n",
    "        for b, (X, y) in enumerate(train_loader):\n",
    "            y_pred = model(X, torch.zeros(1, BATCH_SIZE, HIDDEN_DIM, dtype=torch.float))\n",
    "            loss = loss_fn(y_pred, y)\n",
    "            optimizer.zero_grad()\n",
    "            loss.backward()\n",
    "            optimizer.step()\n",
    "            \n",
    "            epoch_loss = np.array(epoch_loss).mean()\n",
    "            epoch_valid_results = test(valid_loader, model, metrics, loss_fn).tolist()\n",
    "            util.log_train(e, model, epoch_loss, epoch_valid_results, save_dir=save_dir)\n",
    "            "
   ],
   "metadata": {
    "collapsed": false,
    "ExecuteTime": {
     "end_time": "2024-05-20T15:18:24.577724200Z",
     "start_time": "2024-05-20T15:18:24.575145900Z"
    }
   },
   "id": "7008df23e3205dfb",
   "execution_count": 9
  },
  {
   "cell_type": "code",
   "outputs": [
    {
     "name": "stderr",
     "output_type": "stream",
     "text": [
      "  0%|          | 0/100 [00:00<?, ?it/s]\n"
     ]
    },
    {
     "ename": "RuntimeError",
     "evalue": "The size of tensor a (10) must match the size of tensor b (8) at non-singleton dimension 1",
     "output_type": "error",
     "traceback": [
      "\u001B[1;31m---------------------------------------------------------------------------\u001B[0m",
      "\u001B[1;31mRuntimeError\u001B[0m                              Traceback (most recent call last)",
      "Cell \u001B[1;32mIn[10], line 1\u001B[0m\n\u001B[1;32m----> 1\u001B[0m \u001B[43mtrain\u001B[49m\u001B[43m(\u001B[49m\u001B[38;5;124;43m'\u001B[39;49m\u001B[38;5;124;43m../log/SimpleGRU/\u001B[39;49m\u001B[38;5;124;43m'\u001B[39;49m\u001B[43m,\u001B[49m\u001B[43m \u001B[49m\u001B[43mnum_epoch\u001B[49m\u001B[38;5;241;43m=\u001B[39;49m\u001B[43mNUM_EPOCH\u001B[49m\u001B[43m)\u001B[49m\n",
      "Cell \u001B[1;32mIn[9], line 19\u001B[0m, in \u001B[0;36mtrain\u001B[1;34m(save_dir, num_epoch)\u001B[0m\n\u001B[0;32m     17\u001B[0m epoch_loss \u001B[38;5;241m=\u001B[39m []\n\u001B[0;32m     18\u001B[0m \u001B[38;5;28;01mfor\u001B[39;00m b, (X, y) \u001B[38;5;129;01min\u001B[39;00m \u001B[38;5;28menumerate\u001B[39m(train_loader):\n\u001B[1;32m---> 19\u001B[0m     y_pred \u001B[38;5;241m=\u001B[39m \u001B[43mmodel\u001B[49m\u001B[43m(\u001B[49m\u001B[43mX\u001B[49m\u001B[43m,\u001B[49m\u001B[43m \u001B[49m\u001B[43mtorch\u001B[49m\u001B[38;5;241;43m.\u001B[39;49m\u001B[43mzeros\u001B[49m\u001B[43m(\u001B[49m\u001B[38;5;241;43m1\u001B[39;49m\u001B[43m,\u001B[49m\u001B[43m \u001B[49m\u001B[43mBATCH_SIZE\u001B[49m\u001B[43m,\u001B[49m\u001B[43m \u001B[49m\u001B[43mHIDDEN_DIM\u001B[49m\u001B[43m,\u001B[49m\u001B[43m \u001B[49m\u001B[43mdtype\u001B[49m\u001B[38;5;241;43m=\u001B[39;49m\u001B[43mtorch\u001B[49m\u001B[38;5;241;43m.\u001B[39;49m\u001B[43mfloat\u001B[49m\u001B[43m)\u001B[49m\u001B[43m)\u001B[49m\n\u001B[0;32m     20\u001B[0m     loss \u001B[38;5;241m=\u001B[39m loss_fn(y_pred, y)\n\u001B[0;32m     21\u001B[0m     optimizer\u001B[38;5;241m.\u001B[39mzero_grad()\n",
      "File \u001B[1;32m~\\miniconda3\\envs\\main\\Lib\\site-packages\\torch\\nn\\modules\\module.py:1511\u001B[0m, in \u001B[0;36mModule._wrapped_call_impl\u001B[1;34m(self, *args, **kwargs)\u001B[0m\n\u001B[0;32m   1509\u001B[0m     \u001B[38;5;28;01mreturn\u001B[39;00m \u001B[38;5;28mself\u001B[39m\u001B[38;5;241m.\u001B[39m_compiled_call_impl(\u001B[38;5;241m*\u001B[39margs, \u001B[38;5;241m*\u001B[39m\u001B[38;5;241m*\u001B[39mkwargs)  \u001B[38;5;66;03m# type: ignore[misc]\u001B[39;00m\n\u001B[0;32m   1510\u001B[0m \u001B[38;5;28;01melse\u001B[39;00m:\n\u001B[1;32m-> 1511\u001B[0m     \u001B[38;5;28;01mreturn\u001B[39;00m \u001B[38;5;28;43mself\u001B[39;49m\u001B[38;5;241;43m.\u001B[39;49m\u001B[43m_call_impl\u001B[49m\u001B[43m(\u001B[49m\u001B[38;5;241;43m*\u001B[39;49m\u001B[43margs\u001B[49m\u001B[43m,\u001B[49m\u001B[43m \u001B[49m\u001B[38;5;241;43m*\u001B[39;49m\u001B[38;5;241;43m*\u001B[39;49m\u001B[43mkwargs\u001B[49m\u001B[43m)\u001B[49m\n",
      "File \u001B[1;32m~\\miniconda3\\envs\\main\\Lib\\site-packages\\torch\\nn\\modules\\module.py:1520\u001B[0m, in \u001B[0;36mModule._call_impl\u001B[1;34m(self, *args, **kwargs)\u001B[0m\n\u001B[0;32m   1515\u001B[0m \u001B[38;5;66;03m# If we don't have any hooks, we want to skip the rest of the logic in\u001B[39;00m\n\u001B[0;32m   1516\u001B[0m \u001B[38;5;66;03m# this function, and just call forward.\u001B[39;00m\n\u001B[0;32m   1517\u001B[0m \u001B[38;5;28;01mif\u001B[39;00m \u001B[38;5;129;01mnot\u001B[39;00m (\u001B[38;5;28mself\u001B[39m\u001B[38;5;241m.\u001B[39m_backward_hooks \u001B[38;5;129;01mor\u001B[39;00m \u001B[38;5;28mself\u001B[39m\u001B[38;5;241m.\u001B[39m_backward_pre_hooks \u001B[38;5;129;01mor\u001B[39;00m \u001B[38;5;28mself\u001B[39m\u001B[38;5;241m.\u001B[39m_forward_hooks \u001B[38;5;129;01mor\u001B[39;00m \u001B[38;5;28mself\u001B[39m\u001B[38;5;241m.\u001B[39m_forward_pre_hooks\n\u001B[0;32m   1518\u001B[0m         \u001B[38;5;129;01mor\u001B[39;00m _global_backward_pre_hooks \u001B[38;5;129;01mor\u001B[39;00m _global_backward_hooks\n\u001B[0;32m   1519\u001B[0m         \u001B[38;5;129;01mor\u001B[39;00m _global_forward_hooks \u001B[38;5;129;01mor\u001B[39;00m _global_forward_pre_hooks):\n\u001B[1;32m-> 1520\u001B[0m     \u001B[38;5;28;01mreturn\u001B[39;00m \u001B[43mforward_call\u001B[49m\u001B[43m(\u001B[49m\u001B[38;5;241;43m*\u001B[39;49m\u001B[43margs\u001B[49m\u001B[43m,\u001B[49m\u001B[43m \u001B[49m\u001B[38;5;241;43m*\u001B[39;49m\u001B[38;5;241;43m*\u001B[39;49m\u001B[43mkwargs\u001B[49m\u001B[43m)\u001B[49m\n\u001B[0;32m   1522\u001B[0m \u001B[38;5;28;01mtry\u001B[39;00m:\n\u001B[0;32m   1523\u001B[0m     result \u001B[38;5;241m=\u001B[39m \u001B[38;5;28;01mNone\u001B[39;00m\n",
      "File \u001B[1;32mD:\\Code\\Project\\ATM-Replenish-Agent\\model\\__init__.py:25\u001B[0m, in \u001B[0;36mSimpleGRU.forward\u001B[1;34m(self, time_series, h0)\u001B[0m\n\u001B[0;32m     23\u001B[0m \u001B[38;5;28;01mdef\u001B[39;00m \u001B[38;5;21mforward\u001B[39m(\u001B[38;5;28mself\u001B[39m, time_series: torch\u001B[38;5;241m.\u001B[39mTensor, h0: torch\u001B[38;5;241m.\u001B[39mtensor):\n\u001B[0;32m     24\u001B[0m \th0 \u001B[38;5;241m=\u001B[39m \u001B[38;5;28mself\u001B[39m\u001B[38;5;241m.\u001B[39mh0_fc(h0)  \u001B[38;5;66;03m# (num_layer, batch_size, hidden_dim)\u001B[39;00m\n\u001B[1;32m---> 25\u001B[0m \tnormed_time_series \u001B[38;5;241m=\u001B[39m \u001B[38;5;28;43mself\u001B[39;49m\u001B[38;5;241;43m.\u001B[39;49m\u001B[43mnormalizer\u001B[49m\u001B[38;5;241;43m.\u001B[39;49m\u001B[43mnormalize\u001B[49m\u001B[43m(\u001B[49m\u001B[43mtime_series\u001B[49m\u001B[43m)\u001B[49m\n\u001B[0;32m     27\u001B[0m \toutput, hn \u001B[38;5;241m=\u001B[39m \u001B[38;5;28mself\u001B[39m\u001B[38;5;241m.\u001B[39mgru(normed_time_series, h0)\n\u001B[0;32m     29\u001B[0m \t\u001B[38;5;66;03m# output the last pred\u001B[39;00m\n",
      "File \u001B[1;32m~\\miniconda3\\envs\\main\\Lib\\site-packages\\torch\\utils\\_contextlib.py:115\u001B[0m, in \u001B[0;36mcontext_decorator.<locals>.decorate_context\u001B[1;34m(*args, **kwargs)\u001B[0m\n\u001B[0;32m    112\u001B[0m \u001B[38;5;129m@functools\u001B[39m\u001B[38;5;241m.\u001B[39mwraps(func)\n\u001B[0;32m    113\u001B[0m \u001B[38;5;28;01mdef\u001B[39;00m \u001B[38;5;21mdecorate_context\u001B[39m(\u001B[38;5;241m*\u001B[39margs, \u001B[38;5;241m*\u001B[39m\u001B[38;5;241m*\u001B[39mkwargs):\n\u001B[0;32m    114\u001B[0m     \u001B[38;5;28;01mwith\u001B[39;00m ctx_factory():\n\u001B[1;32m--> 115\u001B[0m         \u001B[38;5;28;01mreturn\u001B[39;00m \u001B[43mfunc\u001B[49m\u001B[43m(\u001B[49m\u001B[38;5;241;43m*\u001B[39;49m\u001B[43margs\u001B[49m\u001B[43m,\u001B[49m\u001B[43m \u001B[49m\u001B[38;5;241;43m*\u001B[39;49m\u001B[38;5;241;43m*\u001B[39;49m\u001B[43mkwargs\u001B[49m\u001B[43m)\u001B[49m\n",
      "File \u001B[1;32mD:\\Code\\Project\\ATM-Replenish-Agent\\model\\layer.py:28\u001B[0m, in \u001B[0;36mNormalizer.normalize\u001B[1;34m(self, time_series)\u001B[0m\n\u001B[0;32m     26\u001B[0m \u001B[38;5;28mself\u001B[39m\u001B[38;5;241m.\u001B[39mmean \u001B[38;5;241m=\u001B[39m time_series\u001B[38;5;241m.\u001B[39mmean(dim\u001B[38;5;241m=\u001B[39m\u001B[38;5;28mself\u001B[39m\u001B[38;5;241m.\u001B[39mdim)\n\u001B[0;32m     27\u001B[0m \u001B[38;5;28mself\u001B[39m\u001B[38;5;241m.\u001B[39mstd \u001B[38;5;241m=\u001B[39m time_series\u001B[38;5;241m.\u001B[39mstd(dim\u001B[38;5;241m=\u001B[39m\u001B[38;5;28mself\u001B[39m\u001B[38;5;241m.\u001B[39mdim)\n\u001B[1;32m---> 28\u001B[0m \u001B[38;5;28;01mreturn\u001B[39;00m (\u001B[43mtime_series\u001B[49m\u001B[43m \u001B[49m\u001B[38;5;241;43m-\u001B[39;49m\u001B[43m \u001B[49m\u001B[38;5;28;43mself\u001B[39;49m\u001B[38;5;241;43m.\u001B[39;49m\u001B[43mmean\u001B[49m) \u001B[38;5;241m/\u001B[39m (\u001B[38;5;28mself\u001B[39m\u001B[38;5;241m.\u001B[39mstd \u001B[38;5;241m+\u001B[39m \u001B[38;5;28mself\u001B[39m\u001B[38;5;241m.\u001B[39mepsilon)\n",
      "\u001B[1;31mRuntimeError\u001B[0m: The size of tensor a (10) must match the size of tensor b (8) at non-singleton dimension 1"
     ]
    }
   ],
   "source": [
    "train('../log/SimpleGRU/', num_epoch=NUM_EPOCH)"
   ],
   "metadata": {
    "collapsed": false,
    "ExecuteTime": {
     "end_time": "2024-05-20T15:18:25.179907200Z",
     "start_time": "2024-05-20T15:18:25.118653300Z"
    }
   },
   "id": "e755b0e48fb75ff3",
   "execution_count": 10
  },
  {
   "cell_type": "code",
   "outputs": [],
   "source": [],
   "metadata": {
    "collapsed": false,
    "ExecuteTime": {
     "start_time": "2024-05-20T15:18:17.530558400Z"
    }
   },
   "id": "4ed5b6d5811621af"
  }
 ],
 "metadata": {
  "kernelspec": {
   "display_name": "Python 3",
   "language": "python",
   "name": "python3"
  },
  "language_info": {
   "codemirror_mode": {
    "name": "ipython",
    "version": 2
   },
   "file_extension": ".py",
   "mimetype": "text/x-python",
   "name": "python",
   "nbconvert_exporter": "python",
   "pygments_lexer": "ipython2",
   "version": "2.7.6"
  }
 },
 "nbformat": 4,
 "nbformat_minor": 5
}
