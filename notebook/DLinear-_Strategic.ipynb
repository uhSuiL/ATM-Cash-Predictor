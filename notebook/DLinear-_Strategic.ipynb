{
 "cells": [
  {
   "cell_type": "code",
   "execution_count": 1,
   "id": "initial_id",
   "metadata": {
    "collapsed": true,
    "ExecuteTime": {
     "end_time": "2024-06-17T12:54:59.890136300Z",
     "start_time": "2024-06-17T12:54:58.580235400Z"
    }
   },
   "outputs": [],
   "source": [
    "from model import StrategicDLinear, DLinear, util, layer\n",
    "from data import SlidingWinDataset\n",
    "\n",
    "import os\n",
    "\n",
    "import torch\n",
    "from torch import optim, nn\n",
    "from torch.utils.data import DataLoader\n",
    "\n",
    "import pandas as pd\n",
    "import numpy as np\n",
    "import matplotlib.pyplot as plt"
   ]
  },
  {
   "cell_type": "code",
   "outputs": [],
   "source": [
    "SLIDING_WIN = 10\n",
    "BATCH_SIZE = 4\n",
    "SHUFFLE = True\n",
    "\n",
    "VALID_SIZE = 70\n",
    "\n",
    "COUNTER_NUM = 9012\n",
    "SEED = 2"
   ],
   "metadata": {
    "collapsed": false,
    "ExecuteTime": {
     "end_time": "2024-06-17T12:54:59.896294600Z",
     "start_time": "2024-06-17T12:54:59.892119800Z"
    }
   },
   "id": "564cd597f6709dbe",
   "execution_count": 2
  },
  {
   "cell_type": "code",
   "outputs": [],
   "source": [
    "torch.manual_seed(SEED)\n",
    "np.random.seed(SEED)"
   ],
   "metadata": {
    "collapsed": false,
    "ExecuteTime": {
     "end_time": "2024-06-17T12:54:59.903025200Z",
     "start_time": "2024-06-17T12:54:59.896294600Z"
    }
   },
   "id": "94ac37d7b766563c",
   "execution_count": 3
  },
  {
   "cell_type": "code",
   "outputs": [
    {
     "data": {
      "text/plain": "         9012  0     0     1   \n0       600.0     0     1     1\n1    504000.0     1     1     1\n2    467300.0     2     1     1\n3    382200.0     3     1     1\n4    298700.0     4     1     1\n..        ...   ...   ...   ...\n305  271100.0   305     1     1\n306  221100.0   306     1     1\n307  158700.0   307     1     1\n308   99500.0   308     1     1\n309   56400.0   309     1     1\n\n[310 rows x 4 columns]",
      "text/html": "<div>\n<style scoped>\n    .dataframe tbody tr th:only-of-type {\n        vertical-align: middle;\n    }\n\n    .dataframe tbody tr th {\n        vertical-align: top;\n    }\n\n    .dataframe thead th {\n        text-align: right;\n    }\n</style>\n<table border=\"1\" class=\"dataframe\">\n  <thead>\n    <tr style=\"text-align: right;\">\n      <th></th>\n      <th>9012</th>\n      <th>0</th>\n      <th>0</th>\n      <th>1</th>\n    </tr>\n  </thead>\n  <tbody>\n    <tr>\n      <th>0</th>\n      <td>600.0</td>\n      <td>0</td>\n      <td>1</td>\n      <td>1</td>\n    </tr>\n    <tr>\n      <th>1</th>\n      <td>504000.0</td>\n      <td>1</td>\n      <td>1</td>\n      <td>1</td>\n    </tr>\n    <tr>\n      <th>2</th>\n      <td>467300.0</td>\n      <td>2</td>\n      <td>1</td>\n      <td>1</td>\n    </tr>\n    <tr>\n      <th>3</th>\n      <td>382200.0</td>\n      <td>3</td>\n      <td>1</td>\n      <td>1</td>\n    </tr>\n    <tr>\n      <th>4</th>\n      <td>298700.0</td>\n      <td>4</td>\n      <td>1</td>\n      <td>1</td>\n    </tr>\n    <tr>\n      <th>...</th>\n      <td>...</td>\n      <td>...</td>\n      <td>...</td>\n      <td>...</td>\n    </tr>\n    <tr>\n      <th>305</th>\n      <td>271100.0</td>\n      <td>305</td>\n      <td>1</td>\n      <td>1</td>\n    </tr>\n    <tr>\n      <th>306</th>\n      <td>221100.0</td>\n      <td>306</td>\n      <td>1</td>\n      <td>1</td>\n    </tr>\n    <tr>\n      <th>307</th>\n      <td>158700.0</td>\n      <td>307</td>\n      <td>1</td>\n      <td>1</td>\n    </tr>\n    <tr>\n      <th>308</th>\n      <td>99500.0</td>\n      <td>308</td>\n      <td>1</td>\n      <td>1</td>\n    </tr>\n    <tr>\n      <th>309</th>\n      <td>56400.0</td>\n      <td>309</td>\n      <td>1</td>\n      <td>1</td>\n    </tr>\n  </tbody>\n</table>\n<p>310 rows × 4 columns</p>\n</div>"
     },
     "execution_count": 4,
     "metadata": {},
     "output_type": "execute_result"
    }
   ],
   "source": [
    "train_data = pd.read_csv('../data/13series_time_stacked_cash/train.csv').drop(['日期'], axis=1).astype(float)\n",
    "train_data.columns = [int(col.split('_')[-1]) for col in train_data.columns]\n",
    "\n",
    "info = pd.read_csv('../data/Group2-ATM-Info.csv', index_col=0)\n",
    "info['在/离行'] = info['在/离行'].map({'在行': 1, '离行': 0})\n",
    "info['是否开启循环'] = info['是否开启循环'].map({'是': 1, '否': 0})\n",
    "\n",
    "train_data = pd.concat([\n",
    "    train_data[COUNTER_NUM],\n",
    "    pd.Series(train_data.reset_index().index),\n",
    "    pd.DataFrame(\n",
    "        info[info['柜员号'] == COUNTER_NUM].drop('柜员号', axis=1).to_numpy().repeat(repeats=train_data.shape[0], axis=0)\n",
    "    ),\n",
    "], axis=1)\n",
    "\n",
    "valid_data = train_data.iloc[-VALID_SIZE:]\n",
    "train_data = train_data.iloc[:-VALID_SIZE]\n",
    "\n",
    "NUM_SERIES = 1\n",
    "\n",
    "train_data"
   ],
   "metadata": {
    "collapsed": false,
    "ExecuteTime": {
     "end_time": "2024-06-17T12:54:59.924258300Z",
     "start_time": "2024-06-17T12:54:59.903025200Z"
    }
   },
   "id": "eb786b4bb2abd775",
   "execution_count": 4
  },
  {
   "cell_type": "code",
   "outputs": [],
   "source": [
    "train_set = SlidingWinDataset(train_data, sliding_win=SLIDING_WIN)\n",
    "valid_set = SlidingWinDataset(valid_data, sliding_win=SLIDING_WIN)\n",
    "\n",
    "train_loader = DataLoader(train_set, batch_size=4, shuffle=SHUFFLE)\n",
    "valid_loader = DataLoader(valid_set, batch_size=4, shuffle=SHUFFLE)"
   ],
   "metadata": {
    "collapsed": false,
    "ExecuteTime": {
     "end_time": "2024-06-17T12:54:59.933785100Z",
     "start_time": "2024-06-17T12:54:59.924258300Z"
    }
   },
   "id": "72658c2aeea3d7a4",
   "execution_count": 5
  },
  {
   "cell_type": "code",
   "outputs": [
    {
     "name": "stderr",
     "output_type": "stream",
     "text": [
      "C:\\Users\\LiuShu\\miniconda3\\envs\\main\\Lib\\site-packages\\transformers\\utils\\generic.py:441: UserWarning: torch.utils._pytree._register_pytree_node is deprecated. Please use torch.utils._pytree.register_pytree_node instead.\n",
      "  _torch_pytree._register_pytree_node(\n"
     ]
    }
   ],
   "source": [
    "# moving_avg = layer.UltimateSmoother(5, True)\n",
    "moving_avg = layer.SimpleMovingAverage(win_length=5)\n",
    "# moving_avg = layer.WeightedMovingAverage(SLIDING_WIN, num_features=NUM_SERIES)\n",
    "\n",
    "model = StrategicDLinear(\n",
    "    d_linear=DLinear(\n",
    "        is_individual=True, num_series=NUM_SERIES, num_steps=SLIDING_WIN, num_pred_steps=1,\n",
    "        num_exo_t_vars=0, num_exo_s_vars=0,\n",
    "        moving_avg=moving_avg,\n",
    "        keep_num_pred_dim=True\n",
    "    ),\n",
    "    strategy=layer.Strategy(\n",
    "        num_series=NUM_SERIES,\n",
    "        time_embed_dim=4,\n",
    "        # mlp_hidden_params=[4],\n",
    "        num_exo_vars=0\n",
    "    )\n",
    ")\n",
    "\n",
    "optimizer = optim.Adam(model.parameters(), lr=1e-4)\n",
    "loss_fn = nn.MSELoss()\n",
    "metrics = [nn.functional.l1_loss]"
   ],
   "metadata": {
    "collapsed": false,
    "ExecuteTime": {
     "end_time": "2024-06-17T12:55:01.040704600Z",
     "start_time": "2024-06-17T12:54:59.935787400Z"
    }
   },
   "id": "2295fe94481c5cd3",
   "execution_count": 6
  },
  {
   "cell_type": "code",
   "outputs": [],
   "source": [
    "SAVE_DIR = f'../log/{model.name}(norm,{moving_avg.name},win={SLIDING_WIN},batch_size={BATCH_SIZE},valid_size={VALID_SIZE})/{COUNTER_NUM}/{SEED}'"
   ],
   "metadata": {
    "collapsed": false,
    "ExecuteTime": {
     "end_time": "2024-06-17T12:55:01.040704600Z",
     "start_time": "2024-06-17T12:55:01.038673Z"
    }
   },
   "id": "3c0f509b87615b90",
   "execution_count": 7
  },
  {
   "cell_type": "code",
   "outputs": [
    {
     "data": {
      "text/plain": "False"
     },
     "execution_count": 8,
     "metadata": {},
     "output_type": "execute_result"
    }
   ],
   "source": [
    "os.path.exists('../log/DLinear-Strategy(norm,SMA,win=10,batch_size=4, valid_size=70)')"
   ],
   "metadata": {
    "collapsed": false,
    "ExecuteTime": {
     "end_time": "2024-06-17T12:55:01.056321500Z",
     "start_time": "2024-06-17T12:55:01.042851900Z"
    }
   },
   "id": "4c2c3143b326bf4c",
   "execution_count": 8
  },
  {
   "cell_type": "code",
   "outputs": [
    {
     "data": {
      "text/plain": "<Figure size 640x480 with 1 Axes>",
      "image/png": "[encoded data removed]"
     },
     "metadata": {},
     "output_type": "display_data"
    }
   ],
   "source": [
    "util.visualize_trains(\n",
    "    f'../log/{model.name}(norm,{moving_avg.name},win={SLIDING_WIN},batch_size={BATCH_SIZE},valid_size={VALID_SIZE})', \n",
    "    9003,\n",
    "    1,\n",
    "    'Test MSE',\n",
    "    start=200,\n",
    ")\n"
   ],
   "metadata": {
    "collapsed": false,
    "ExecuteTime": {
     "end_time": "2024-06-17T12:55:01.256633Z",
     "start_time": "2024-06-17T12:55:01.054322200Z"
    }
   },
   "id": "2f8e8f1ce2f289bb",
   "execution_count": 9
  },
  {
   "cell_type": "code",
   "outputs": [
    {
     "ename": "AssertionError",
     "evalue": "",
     "output_type": "error",
     "traceback": [
      "\u001B[1;31m---------------------------------------------------------------------------\u001B[0m",
      "\u001B[1;31mAssertionError\u001B[0m                            Traceback (most recent call last)",
      "Cell \u001B[1;32mIn[10], line 5\u001B[0m\n\u001B[0;32m      1\u001B[0m NUM_EPOCH \u001B[38;5;241m=\u001B[39m \u001B[38;5;241m400\u001B[39m\n\u001B[0;32m      4\u001B[0m \u001B[38;5;66;03m# torch.autograd.set_detect_anomaly(True\u001B[39;00m\n\u001B[1;32m----> 5\u001B[0m \u001B[38;5;28;01massert\u001B[39;00m \u001B[38;5;28;01mFalse\u001B[39;00m\n\u001B[0;32m      7\u001B[0m \u001B[38;5;129m@torch\u001B[39m\u001B[38;5;241m.\u001B[39mno_grad()\n\u001B[0;32m      8\u001B[0m \u001B[38;5;28;01mdef\u001B[39;00m \u001B[38;5;21mtest\u001B[39m(_test_loader) \u001B[38;5;241m-\u001B[39m\u001B[38;5;241m>\u001B[39m np\u001B[38;5;241m.\u001B[39mndarray:\n\u001B[0;32m      9\u001B[0m     \u001B[38;5;66;03m# results = []\u001B[39;00m\n\u001B[0;32m     10\u001B[0m     \u001B[38;5;28;01mfor\u001B[39;00m b, (X, y) \u001B[38;5;129;01min\u001B[39;00m \u001B[38;5;28menumerate\u001B[39m(_test_loader):\n",
      "\u001B[1;31mAssertionError\u001B[0m: "
     ]
    }
   ],
   "source": [
    "NUM_EPOCH = 400\n",
    "\n",
    "\n",
    "# torch.autograd.set_detect_anomaly(True\n",
    "assert False\n",
    "\n",
    "@torch.no_grad()\n",
    "def test(_test_loader) -> np.ndarray:\n",
    "    # results = []\n",
    "    for b, (X, y) in enumerate(_test_loader):\n",
    "        O = X[:, :, 2:].unsqueeze(dim=-2)\n",
    "        T = X[:, :, 1:2]\n",
    "        T_next = T[:, -1:, :] + 1\n",
    "        X = X[:, :, :1]\n",
    "        y = y[:, :1]\n",
    "        y_pred = model(X, e_t=None, e_s=None, T_next=T_next, other_vars=None).squeeze(dim=-2)\n",
    "        \n",
    "        batch_results = [metrics_fn(y, y_pred).item() for metrics_fn in metrics]\n",
    "    \n",
    "        if loss_fn is not None:\n",
    "            loss = loss_fn(y_pred, y).item()\n",
    "            batch_results = [loss] + batch_results\n",
    "            \n",
    "        return batch_results\n",
    "\n",
    "\n",
    "for e in range(0, NUM_EPOCH):\n",
    "    epoch_loss = []\n",
    "    for b, (X, y) in enumerate(train_loader):\n",
    "        O = X[:, :, 2:].unsqueeze(dim=-2)\n",
    "        T = X[:, :, 1:2]\n",
    "        T_next = T[:, -1:, :] + 1\n",
    "        X = X[:, :, :1]\n",
    "        \n",
    "        y = y[:, :1]\n",
    "        \n",
    "        y_pred = model(X, e_t=None, e_s=None, T_next=T_next, other_vars=None).squeeze(dim=-2)\n",
    "        loss = loss_fn(y_pred, y)\n",
    "        optimizer.zero_grad()\n",
    "        loss.backward()\n",
    "        optimizer.step()\n",
    "        \n",
    "        epoch_loss.append(loss.item())\n",
    "        \n",
    "    epoch_loss = np.array(epoch_loss).mean()\n",
    "    epoch_valid_results = test(valid_loader)\n",
    "    util.log_train(e, model, epoch_loss, epoch_valid_results, save_dir=SAVE_DIR)    "
   ],
   "metadata": {
    "collapsed": false,
    "ExecuteTime": {
     "end_time": "2024-06-17T12:55:01.520218Z",
     "start_time": "2024-06-17T12:55:01.255633500Z"
    }
   },
   "id": "bb2822126369aa2b",
   "execution_count": 10
  },
  {
   "cell_type": "code",
   "outputs": [],
   "source": [
    "_1 = util.visualize_train(\n",
    "    os.path.join(SAVE_DIR, util.now.strftime('%Y-%m-%d-%H-%M')), \n",
    "    # os.path.join(SAVE_DIR, '2024-05-29-21-47'), \n",
    "    # os.path.join(SAVE_DIR, '2024-06-05-21-35'), \n",
    "    ['valid_loss', 'MAE'],\n",
    "    v_lines = [50, 225]\n",
    ")\n",
    "# util.load_checkpoint(model, SAVE_DIR, '2024-06-05-21-35', epoch=225)"
   ],
   "metadata": {
    "collapsed": false,
    "ExecuteTime": {
     "end_time": "2024-06-17T12:55:01.524265100Z",
     "start_time": "2024-06-17T12:55:01.523264900Z"
    }
   },
   "id": "9260cdd9ead8b900",
   "execution_count": null
  },
  {
   "cell_type": "code",
   "outputs": [],
   "source": [
    "# _ = util.visualize_train(\n",
    "#     os.path.join(f'../log/DLinear(norm, win={10}, batch_size={BATCH_SIZE}, valid_size={20})/', '2024-05-29-21-47'), \n",
    "#     ['valid_loss', 'MAE'],\n",
    "#     # v_lines = [50, 80]\n",
    "# )"
   ],
   "metadata": {
    "collapsed": false,
    "ExecuteTime": {
     "start_time": "2024-06-17T12:55:01.526265Z"
    }
   },
   "id": "ea4c16fe30613a83",
   "execution_count": null
  },
  {
   "cell_type": "code",
   "outputs": [],
   "source": [
    "_1['valid_loss'][200:].plot(figsize=(12, 6))"
   ],
   "metadata": {
    "collapsed": false,
    "ExecuteTime": {
     "start_time": "2024-06-17T12:55:01.528266300Z"
    }
   },
   "id": "38a22586f057fa2",
   "execution_count": null
  },
  {
   "cell_type": "code",
   "outputs": [],
   "source": [
    "_1['MAE'].plot(figsize=(12, 6))"
   ],
   "metadata": {
    "collapsed": false,
    "ExecuteTime": {
     "start_time": "2024-06-17T12:55:01.530770700Z"
    }
   },
   "id": "7f8d84f958874a2",
   "execution_count": null
  },
  {
   "cell_type": "code",
   "outputs": [],
   "source": [
    "pred_train_list, y_train_list = [], []\n",
    "for X, y in train_set:\n",
    "    X, y = X.unsqueeze(dim=0), y.unsqueeze(dim=0)\n",
    "    O = X[:, :, 2:].unsqueeze(dim=-2)\n",
    "    T = X[:, :, 1:2]\n",
    "    T_next = T[:, -1:, :] + 1\n",
    "    X = X[:, :, :1]\n",
    "    \n",
    "    y = y[:, :1]\n",
    "    \n",
    "    y_pred = model(X, e_t=None, e_s=None, T_next=T_next, other_vars=None).squeeze(dim=-2)\n",
    "    y_train_list.append(y.numpy().item())\n",
    "    pred_train_list.append(y_pred.detach().numpy().item())"
   ],
   "metadata": {
    "collapsed": false,
    "ExecuteTime": {
     "end_time": "2024-06-17T12:55:01.531777Z",
     "start_time": "2024-06-17T12:55:01.531777Z"
    }
   },
   "id": "4d9cd6e4b7e0679d",
   "execution_count": null
  },
  {
   "cell_type": "code",
   "outputs": [],
   "source": [
    "pred_valid_list, y_valid_list = [], []\n",
    "for X, y in valid_set:\n",
    "    X, y = X.unsqueeze(dim=0), y.unsqueeze(dim=0)\n",
    "    O = X[:, :, 2:].unsqueeze(dim=-2)\n",
    "    T = X[:, :, 1:2]\n",
    "    T_next = T[:, -1:, :] + 1\n",
    "    X = X[:, :, :1]\n",
    "    \n",
    "    y = y[:, :1]\n",
    "    \n",
    "    y_pred = model(X, e_t=None, e_s=None, T_next=T_next, other_vars=None).squeeze(dim=-2)\n",
    "    y_valid_list.append(y.numpy().item())\n",
    "    pred_valid_list.append(y_pred.detach().numpy().item())"
   ],
   "metadata": {
    "collapsed": false,
    "ExecuteTime": {
     "start_time": "2024-06-17T12:55:01.532782600Z"
    }
   },
   "id": "17e5c7ea2f847005",
   "execution_count": null
  },
  {
   "cell_type": "code",
   "outputs": [],
   "source": [
    "series_id = 0\n",
    "start = None\n",
    "end = None\n",
    "pd.Series(y_train_list)[start: end].plot(figsize=(12, 6), label='y_true')\n",
    "pd.Series(pred_train_list)[start: end].plot(label='y_pred')\n",
    "plt.legend()"
   ],
   "metadata": {
    "collapsed": false,
    "ExecuteTime": {
     "start_time": "2024-06-17T12:55:01.533782600Z"
    }
   },
   "id": "af689a38085cf4d2",
   "execution_count": null
  },
  {
   "cell_type": "code",
   "outputs": [],
   "source": [
    "pd.Series(y_valid_list).plot(figsize=(12, 6), label='y_true')\n",
    "pd.Series(pred_valid_list).plot(label='y_pred')\n",
    "plt.legend()"
   ],
   "metadata": {
    "collapsed": false,
    "ExecuteTime": {
     "start_time": "2024-06-17T12:55:01.536249900Z"
    }
   },
   "id": "56eae8a27d36892d",
   "execution_count": null
  }
 ],
 "metadata": {
  "kernelspec": {
   "display_name": "Python 3",
   "language": "python",
   "name": "python3"
  },
  "language_info": {
   "codemirror_mode": {
    "name": "ipython",
    "version": 2
   },
   "file_extension": ".py",
   "mimetype": "text/x-python",
   "name": "python",
   "nbconvert_exporter": "python",
   "pygments_lexer": "ipython2",
   "version": "2.7.6"
  }
 },
 "nbformat": 4,
 "nbformat_minor": 5
}
