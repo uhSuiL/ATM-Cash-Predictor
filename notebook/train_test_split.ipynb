{
 "cells": [
  {
   "cell_type": "code",
   "execution_count": 1,
   "id": "initial_id",
   "metadata": {
    "collapsed": true,
    "ExecuteTime": {
     "end_time": "2024-05-21T03:07:46.718999600Z",
     "start_time": "2024-05-21T03:07:44.342633600Z"
    }
   },
   "outputs": [],
   "source": [
    "import os\n",
    "import pandas as pd\n",
    "from sklearn.model_selection import train_test_split"
   ]
  },
  {
   "cell_type": "code",
   "outputs": [
    {
     "data": {
      "text/plain": "           日期   柜员号    尾箱余额 在/离行 是否开启循环\n0  2016-02-01  9012     600   在行      是\n1  2016-02-02  9012  504000   在行      是\n2  2016-02-03  9012  467300   在行      是\n3  2016-02-04  9012  382200   在行      是\n4  2016-02-05  9012  298700   在行      是",
      "text/html": "<div>\n<style scoped>\n    .dataframe tbody tr th:only-of-type {\n        vertical-align: middle;\n    }\n\n    .dataframe tbody tr th {\n        vertical-align: top;\n    }\n\n    .dataframe thead th {\n        text-align: right;\n    }\n</style>\n<table border=\"1\" class=\"dataframe\">\n  <thead>\n    <tr style=\"text-align: right;\">\n      <th></th>\n      <th>日期</th>\n      <th>柜员号</th>\n      <th>尾箱余额</th>\n      <th>在/离行</th>\n      <th>是否开启循环</th>\n    </tr>\n  </thead>\n  <tbody>\n    <tr>\n      <th>0</th>\n      <td>2016-02-01</td>\n      <td>9012</td>\n      <td>600</td>\n      <td>在行</td>\n      <td>是</td>\n    </tr>\n    <tr>\n      <th>1</th>\n      <td>2016-02-02</td>\n      <td>9012</td>\n      <td>504000</td>\n      <td>在行</td>\n      <td>是</td>\n    </tr>\n    <tr>\n      <th>2</th>\n      <td>2016-02-03</td>\n      <td>9012</td>\n      <td>467300</td>\n      <td>在行</td>\n      <td>是</td>\n    </tr>\n    <tr>\n      <th>3</th>\n      <td>2016-02-04</td>\n      <td>9012</td>\n      <td>382200</td>\n      <td>在行</td>\n      <td>是</td>\n    </tr>\n    <tr>\n      <th>4</th>\n      <td>2016-02-05</td>\n      <td>9012</td>\n      <td>298700</td>\n      <td>在行</td>\n      <td>是</td>\n    </tr>\n  </tbody>\n</table>\n</div>"
     },
     "execution_count": 2,
     "metadata": {},
     "output_type": "execute_result"
    }
   ],
   "source": [
    "data = pd.read_csv('../data/preprocessed/no_dup_13_series.csv')\n",
    "data.head()"
   ],
   "metadata": {
    "collapsed": false,
    "ExecuteTime": {
     "end_time": "2024-05-21T03:07:46.738842200Z",
     "start_time": "2024-05-21T03:07:46.719999700Z"
    }
   },
   "id": "c0f0a5850ca173bb",
   "execution_count": 2
  },
  {
   "cell_type": "code",
   "outputs": [
    {
     "data": {
      "text/plain": "new_index          日期  尾箱余额_9012  尾箱余额_9003  尾箱余额_9049  尾箱余额_9025  尾箱余额_9053  \\\n0          2016-02-01        600     270200      13900      25500     184300   \n1          2016-02-02     504000     270200     456500     617000     159500   \n2          2016-02-03     467300     262500     306500     565400     154100   \n3          2016-02-04     382200     108300     293200     529500     259800   \n4          2016-02-05     298700     428700     293200     543600     288300   \n\nnew_index  尾箱余额_9077  尾箱余额_9207  尾箱余额_9200  尾箱余额_9164  尾箱余额_9008  尾箱余额_9039  \\\n0              90500      89400     271300     159800     173300     221100   \n1              56500      42700     227900      87900     173300     227300   \n2              66900     195900     136600     121300     169600     250300   \n3             421400     285400      14300      96600     139700     140300   \n4             432400     298800     487100     266400     194000     152900   \n\nnew_index  尾箱余额_9472  尾箱余额_9490  \n0              72600     555800  \n1             101600     145800  \n2              75100     234600  \n3              49000     300700  \n4             307900     580300  ",
      "text/html": "<div>\n<style scoped>\n    .dataframe tbody tr th:only-of-type {\n        vertical-align: middle;\n    }\n\n    .dataframe tbody tr th {\n        vertical-align: top;\n    }\n\n    .dataframe thead th {\n        text-align: right;\n    }\n</style>\n<table border=\"1\" class=\"dataframe\">\n  <thead>\n    <tr style=\"text-align: right;\">\n      <th>new_index</th>\n      <th>日期</th>\n      <th>尾箱余额_9012</th>\n      <th>尾箱余额_9003</th>\n      <th>尾箱余额_9049</th>\n      <th>尾箱余额_9025</th>\n      <th>尾箱余额_9053</th>\n      <th>尾箱余额_9077</th>\n      <th>尾箱余额_9207</th>\n      <th>尾箱余额_9200</th>\n      <th>尾箱余额_9164</th>\n      <th>尾箱余额_9008</th>\n      <th>尾箱余额_9039</th>\n      <th>尾箱余额_9472</th>\n      <th>尾箱余额_9490</th>\n    </tr>\n  </thead>\n  <tbody>\n    <tr>\n      <th>0</th>\n      <td>2016-02-01</td>\n      <td>600</td>\n      <td>270200</td>\n      <td>13900</td>\n      <td>25500</td>\n      <td>184300</td>\n      <td>90500</td>\n      <td>89400</td>\n      <td>271300</td>\n      <td>159800</td>\n      <td>173300</td>\n      <td>221100</td>\n      <td>72600</td>\n      <td>555800</td>\n    </tr>\n    <tr>\n      <th>1</th>\n      <td>2016-02-02</td>\n      <td>504000</td>\n      <td>270200</td>\n      <td>456500</td>\n      <td>617000</td>\n      <td>159500</td>\n      <td>56500</td>\n      <td>42700</td>\n      <td>227900</td>\n      <td>87900</td>\n      <td>173300</td>\n      <td>227300</td>\n      <td>101600</td>\n      <td>145800</td>\n    </tr>\n    <tr>\n      <th>2</th>\n      <td>2016-02-03</td>\n      <td>467300</td>\n      <td>262500</td>\n      <td>306500</td>\n      <td>565400</td>\n      <td>154100</td>\n      <td>66900</td>\n      <td>195900</td>\n      <td>136600</td>\n      <td>121300</td>\n      <td>169600</td>\n      <td>250300</td>\n      <td>75100</td>\n      <td>234600</td>\n    </tr>\n    <tr>\n      <th>3</th>\n      <td>2016-02-04</td>\n      <td>382200</td>\n      <td>108300</td>\n      <td>293200</td>\n      <td>529500</td>\n      <td>259800</td>\n      <td>421400</td>\n      <td>285400</td>\n      <td>14300</td>\n      <td>96600</td>\n      <td>139700</td>\n      <td>140300</td>\n      <td>49000</td>\n      <td>300700</td>\n    </tr>\n    <tr>\n      <th>4</th>\n      <td>2016-02-05</td>\n      <td>298700</td>\n      <td>428700</td>\n      <td>293200</td>\n      <td>543600</td>\n      <td>288300</td>\n      <td>432400</td>\n      <td>298800</td>\n      <td>487100</td>\n      <td>266400</td>\n      <td>194000</td>\n      <td>152900</td>\n      <td>307900</td>\n      <td>580300</td>\n    </tr>\n  </tbody>\n</table>\n</div>"
     },
     "execution_count": 3,
     "metadata": {},
     "output_type": "execute_result"
    }
   ],
   "source": [
    "new_data = pd.DataFrame()\n",
    "for i, g in data.groupby('日期'):\n",
    "    _ = g.drop(['日期', '在/离行', '是否开启循环'], axis=1).set_index('柜员号', drop=True).stack().reset_index()\n",
    "    _['new_index'] = _['level_1'] + '_' + _['柜员号'].astype(str)\n",
    "    _ = _.set_index('new_index').drop(['柜员号', 'level_1'], axis=1).T\n",
    "    _['日期'] = g['日期'].unique().item()\n",
    "    new_data = pd.concat([\n",
    "        new_data,\n",
    "        _\n",
    "    ], axis=0)\n",
    "# new_data.index = range(new_data.shape[0])\n",
    "new_data = new_data.set_index('日期', drop=True).reset_index()\n",
    "new_data.head()"
   ],
   "metadata": {
    "collapsed": false,
    "ExecuteTime": {
     "end_time": "2024-05-21T03:07:47.714646400Z",
     "start_time": "2024-05-21T03:07:46.737840400Z"
    }
   },
   "id": "e88edfb14e003ebe",
   "execution_count": 3
  },
  {
   "cell_type": "code",
   "outputs": [
    {
     "data": {
      "text/plain": "((380, 14), (20, 14))"
     },
     "execution_count": 4,
     "metadata": {},
     "output_type": "execute_result"
    }
   ],
   "source": [
    "train_set = new_data.iloc[:-20]\n",
    "test_set = new_data.iloc[-20:]\n",
    "\n",
    "train_set.to_csv(os.path.join('../data/13series_time_stacked_cash', 'train.csv'), index=False)\n",
    "test_set.to_csv(os.path.join('../data/13series_time_stacked_cash', 'test.csv'), index=False)\n",
    "\n",
    "train_set.shape, test_set.shape"
   ],
   "metadata": {
    "collapsed": false,
    "ExecuteTime": {
     "end_time": "2024-05-21T03:07:47.722672700Z",
     "start_time": "2024-05-21T03:07:47.707752100Z"
    }
   },
   "id": "f86b30bc3e104c67",
   "execution_count": 4
  },
  {
   "cell_type": "code",
   "outputs": [],
   "source": [
    "pd.merge(train_set['日期'], data, on='日期', how='left').to_csv('../data/preprocessed/train.csv', index=False)\n",
    "pd.merge(test_set['日期'], data, on='日期', how='left').to_csv('../data/preprocessed/test.csv', index=False)"
   ],
   "metadata": {
    "collapsed": false,
    "ExecuteTime": {
     "end_time": "2024-05-21T03:11:24.704643Z",
     "start_time": "2024-05-21T03:11:24.685498900Z"
    }
   },
   "id": "495fa9c1d8da420f",
   "execution_count": 17
  },
  {
   "cell_type": "code",
   "outputs": [
    {
     "data": {
      "text/plain": "              日期   柜员号    尾箱余额 在/离行 是否开启循环\n0     2016-02-01  9012     600   在行      是\n1     2016-02-02  9012  504000   在行      是\n2     2016-02-03  9012  467300   在行      是\n3     2016-02-04  9012  382200   在行      是\n4     2016-02-05  9012  298700   在行      是\n...          ...   ...     ...  ...    ...\n5195  2017-03-02  9490  163300   在行      是\n5196  2017-03-03  9490  215500   在行      是\n5197  2017-03-04  9490  241100   在行      是\n5198  2017-03-05  9490  266400   在行      是\n5199  2017-03-06  9490  244300   在行      是\n\n[5200 rows x 5 columns]",
      "text/html": "<div>\n<style scoped>\n    .dataframe tbody tr th:only-of-type {\n        vertical-align: middle;\n    }\n\n    .dataframe tbody tr th {\n        vertical-align: top;\n    }\n\n    .dataframe thead th {\n        text-align: right;\n    }\n</style>\n<table border=\"1\" class=\"dataframe\">\n  <thead>\n    <tr style=\"text-align: right;\">\n      <th></th>\n      <th>日期</th>\n      <th>柜员号</th>\n      <th>尾箱余额</th>\n      <th>在/离行</th>\n      <th>是否开启循环</th>\n    </tr>\n  </thead>\n  <tbody>\n    <tr>\n      <th>0</th>\n      <td>2016-02-01</td>\n      <td>9012</td>\n      <td>600</td>\n      <td>在行</td>\n      <td>是</td>\n    </tr>\n    <tr>\n      <th>1</th>\n      <td>2016-02-02</td>\n      <td>9012</td>\n      <td>504000</td>\n      <td>在行</td>\n      <td>是</td>\n    </tr>\n    <tr>\n      <th>2</th>\n      <td>2016-02-03</td>\n      <td>9012</td>\n      <td>467300</td>\n      <td>在行</td>\n      <td>是</td>\n    </tr>\n    <tr>\n      <th>3</th>\n      <td>2016-02-04</td>\n      <td>9012</td>\n      <td>382200</td>\n      <td>在行</td>\n      <td>是</td>\n    </tr>\n    <tr>\n      <th>4</th>\n      <td>2016-02-05</td>\n      <td>9012</td>\n      <td>298700</td>\n      <td>在行</td>\n      <td>是</td>\n    </tr>\n    <tr>\n      <th>...</th>\n      <td>...</td>\n      <td>...</td>\n      <td>...</td>\n      <td>...</td>\n      <td>...</td>\n    </tr>\n    <tr>\n      <th>5195</th>\n      <td>2017-03-02</td>\n      <td>9490</td>\n      <td>163300</td>\n      <td>在行</td>\n      <td>是</td>\n    </tr>\n    <tr>\n      <th>5196</th>\n      <td>2017-03-03</td>\n      <td>9490</td>\n      <td>215500</td>\n      <td>在行</td>\n      <td>是</td>\n    </tr>\n    <tr>\n      <th>5197</th>\n      <td>2017-03-04</td>\n      <td>9490</td>\n      <td>241100</td>\n      <td>在行</td>\n      <td>是</td>\n    </tr>\n    <tr>\n      <th>5198</th>\n      <td>2017-03-05</td>\n      <td>9490</td>\n      <td>266400</td>\n      <td>在行</td>\n      <td>是</td>\n    </tr>\n    <tr>\n      <th>5199</th>\n      <td>2017-03-06</td>\n      <td>9490</td>\n      <td>244300</td>\n      <td>在行</td>\n      <td>是</td>\n    </tr>\n  </tbody>\n</table>\n<p>5200 rows × 5 columns</p>\n</div>"
     },
     "execution_count": 10,
     "metadata": {},
     "output_type": "execute_result"
    }
   ],
   "source": [
    "data"
   ],
   "metadata": {
    "collapsed": false,
    "ExecuteTime": {
     "end_time": "2024-05-21T03:09:15.560411300Z",
     "start_time": "2024-05-21T03:09:15.547546200Z"
    }
   },
   "id": "7a99b5e99afd0f63",
   "execution_count": 10
  },
  {
   "cell_type": "code",
   "outputs": [
    {
     "data": {
      "text/plain": "380    2017-02-15\n381    2017-02-16\n382    2017-02-17\n383    2017-02-18\n384    2017-02-19\n385    2017-02-20\n386    2017-02-21\n387    2017-02-22\n388    2017-02-23\n389    2017-02-24\n390    2017-02-25\n391    2017-02-26\n392    2017-02-27\n393    2017-02-28\n394    2017-03-01\n395    2017-03-02\n396    2017-03-03\n397    2017-03-04\n398    2017-03-05\n399    2017-03-06\nName: 日期, dtype: object"
     },
     "execution_count": 9,
     "metadata": {},
     "output_type": "execute_result"
    }
   ],
   "source": [
    "test_set['日期']"
   ],
   "metadata": {
    "collapsed": false,
    "ExecuteTime": {
     "end_time": "2024-05-21T03:08:37.037883700Z",
     "start_time": "2024-05-21T03:08:37.034819100Z"
    }
   },
   "id": "e260840bceb6fc6",
   "execution_count": 9
  }
 ],
 "metadata": {
  "kernelspec": {
   "display_name": "Python 3",
   "language": "python",
   "name": "python3"
  },
  "language_info": {
   "codemirror_mode": {
    "name": "ipython",
    "version": 2
   },
   "file_extension": ".py",
   "mimetype": "text/x-python",
   "name": "python",
   "nbconvert_exporter": "python",
   "pygments_lexer": "ipython2",
   "version": "2.7.6"
  }
 },
 "nbformat": 4,
 "nbformat_minor": 5
}
